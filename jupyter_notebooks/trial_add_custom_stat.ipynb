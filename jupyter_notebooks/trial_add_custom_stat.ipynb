{
 "cells": [
  {
   "cell_type": "code",
   "execution_count": 1,
   "id": "12f8d5db-7404-4a0a-93f8-8d5a732d8efc",
   "metadata": {},
   "outputs": [],
   "source": [
    "# import pyspoc"
   ]
  },
  {
   "cell_type": "code",
   "execution_count": 2,
   "id": "19704c2b",
   "metadata": {},
   "outputs": [
    {
     "name": "stdout",
     "output_type": "stream",
     "text": [
      "octave not found, please see README\n",
      "Octave not available: octave not found, please see README\n",
      "Starting JVM with java class /home/hpj22/Documents/stats_for_point_clouds/py-spoc/pyspoc/lib/jidt/infodynamics.jar.\n"
     ]
    }
   ],
   "source": [
    "from pyspoc import Calculator, Config"
   ]
  },
  {
   "cell_type": "code",
   "execution_count": 3,
   "id": "be2fe7f6",
   "metadata": {},
   "outputs": [],
   "source": [
    "# import other helper libraries\n",
    "import pandas as pd\n",
    "import numpy as np"
   ]
  },
  {
   "cell_type": "code",
   "execution_count": 4,
   "id": "34c79dbf",
   "metadata": {},
   "outputs": [],
   "source": [
    "# generate a random dataframe\n",
    "df = pd.DataFrame(np.random.randint(0,100,size=(100, 4)), columns=list('ABCD'))"
   ]
  },
  {
   "cell_type": "code",
   "execution_count": 6,
   "id": "4ccc5855",
   "metadata": {},
   "outputs": [],
   "source": [
    "# create a simple YAML config for pyss\n",
    "\n",
    "# we first configure the 'Statistics' we want to use\n",
    "# in this eg, we use the Covariance and the KendallTau correlation coefficient\n",
    "\n",
    "# we then configure the 'Reducers' we want to use\n",
    "# in this eg, we use the SingularValues and the Determinant\n",
    "\n",
    "# for each Reducer function, we determine which Statistic to apply it to reduce\n",
    "\n",
    "yaml_str_stat_reduce = \"\"\"\n",
    "Statistics:\n",
    "  pyspoc.statistics.basic:\n",
    "    # Covariance\n",
    "    Covariance:\n",
    "      schemes:\n",
    "        cov:\n",
    "          estimator: EmpiricalCovariance\n",
    "\n",
    "    # Kendall Tau correlation coefficient\n",
    "    KendallTau:\n",
    "      schemes:\n",
    "        sq:\n",
    "          squared: True\n",
    "\n",
    "        standard:\n",
    "          squared: False\n",
    "\n",
    "Reducers:\n",
    "  pyspoc.reducers.basic:\n",
    "    SingularValues:\n",
    "      Statistics:\n",
    "        - pyspoc.statistics.basic.Covariance.cov\n",
    "        - pyspoc.statistics.basic.KendallTau.sq\n",
    "        - pyspoc.statistics.basic.KendallTau.standard\n",
    "      schemes:\n",
    "        three:\n",
    "          num_values: 3\n",
    "\n",
    "    Determinant:\n",
    "      Statistics:\n",
    "        - pyspoc.statistics.basic.Covariance.cov\n",
    "      schemes:\n",
    "        scaled:\n",
    "          scaled: True\n",
    "\n",
    "        non-scaled:\n",
    "          scaled: False\n",
    "\"\"\""
   ]
  },
  {
   "cell_type": "code",
   "execution_count": 7,
   "id": "4338afa1",
   "metadata": {},
   "outputs": [],
   "source": [
    "# copy the randomly generated dataframe\n",
    "my_dataset = df.copy()\n",
    "\n",
    "# set a name for the config\n",
    "my_config_name = \"test_config_yml\""
   ]
  },
  {
   "cell_type": "code",
   "execution_count": 8,
   "id": "d76167c6",
   "metadata": {},
   "outputs": [
    {
     "name": "stdout",
     "output_type": "stream",
     "text": [
      "Registering YAML string.\n",
      "Building internal configuration.\n",
      "  ✔ Module pyspoc.statistics.basic loaded successfully.\n",
      "    ✔ Statistic Covariance scheme 'cov' added successfully.\n",
      "    ✔ Statistic KendallTau scheme 'sq' added successfully.\n",
      "    ✔ Statistic KendallTau scheme 'standard' added successfully.\n",
      "  ✔ Module pyspoc.reducers.basic loaded successfully.\n",
      "    ✔ Reducer SingularValues scheme 'three' added successfully.\n",
      "    ✔ Reducer Determinant scheme 'scaled' added successfully.\n",
      "    ✔ Reducer Determinant scheme 'non-scaled' added successfully.\n"
     ]
    }
   ],
   "source": [
    "# create a Config class object\n",
    "cfg = Config.from_yaml(my_config_name, yaml_str_stat_reduce)"
   ]
  },
  {
   "cell_type": "code",
   "execution_count": 9,
   "id": "7c42d7af",
   "metadata": {},
   "outputs": [
    {
     "name": "stdout",
     "output_type": "stream",
     "text": [
      "Normalising the dataset...\n",
      "\n"
     ]
    }
   ],
   "source": [
    "calc = Calculator(my_dataset)"
   ]
  },
  {
   "cell_type": "code",
   "execution_count": 10,
   "id": "0f94615a",
   "metadata": {},
   "outputs": [
    {
     "name": "stderr",
     "output_type": "stream",
     "text": [
      "Processing [None: pyspoc.statistics.basic.KendallTau.standard]: 100%|██████████| 3/3 [00:00<00:00, 214.89it/s]\n",
      "Processing [None: pyspoc.reducers.basic.Determinant.non-scaled]: 100%|██████████| 3/3 [00:00<00:00, 1264.23it/s]"
     ]
    },
    {
     "name": "stdout",
     "output_type": "stream",
     "text": [
      "\n",
      "Calculation complete. Time taken: 0.0177s\n"
     ]
    },
    {
     "name": "stderr",
     "output_type": "stream",
     "text": [
      "\n"
     ]
    }
   ],
   "source": [
    "calc.compute(cfg)"
   ]
  },
  {
   "cell_type": "code",
   "execution_count": 11,
   "id": "e6185944",
   "metadata": {},
   "outputs": [
    {
     "data": {
      "text/html": [
       "<div>\n",
       "<style scoped>\n",
       "    .dataframe tbody tr th:only-of-type {\n",
       "        vertical-align: middle;\n",
       "    }\n",
       "\n",
       "    .dataframe tbody tr th {\n",
       "        vertical-align: top;\n",
       "    }\n",
       "\n",
       "    .dataframe thead th {\n",
       "        text-align: right;\n",
       "    }\n",
       "</style>\n",
       "<table border=\"1\" class=\"dataframe\">\n",
       "  <thead>\n",
       "    <tr style=\"text-align: right;\">\n",
       "      <th></th>\n",
       "      <th></th>\n",
       "      <th>0</th>\n",
       "    </tr>\n",
       "    <tr>\n",
       "      <th>Statistic</th>\n",
       "      <th>Reducer</th>\n",
       "      <th></th>\n",
       "    </tr>\n",
       "  </thead>\n",
       "  <tbody>\n",
       "    <tr>\n",
       "      <th rowspan=\"5\" valign=\"top\">pyspoc.statistics.basic.Covariance.cov</th>\n",
       "      <th>pyspoc.reducers.basic.SingularValues.three_1</th>\n",
       "      <td>1.059149</td>\n",
       "    </tr>\n",
       "    <tr>\n",
       "      <th>pyspoc.reducers.basic.SingularValues.three_2</th>\n",
       "      <td>1.044860</td>\n",
       "    </tr>\n",
       "    <tr>\n",
       "      <th>pyspoc.reducers.basic.SingularValues.three_3</th>\n",
       "      <td>0.922988</td>\n",
       "    </tr>\n",
       "    <tr>\n",
       "      <th>pyspoc.reducers.basic.Determinant.scaled</th>\n",
       "      <td>1.231238</td>\n",
       "    </tr>\n",
       "    <tr>\n",
       "      <th>pyspoc.reducers.basic.Determinant.non-scaled</th>\n",
       "      <td>0.901216</td>\n",
       "    </tr>\n",
       "    <tr>\n",
       "      <th rowspan=\"3\" valign=\"top\">pyspoc.statistics.basic.KendallTau.sq</th>\n",
       "      <th>pyspoc.reducers.basic.SingularValues.three_1</th>\n",
       "      <td>1.003370</td>\n",
       "    </tr>\n",
       "    <tr>\n",
       "      <th>pyspoc.reducers.basic.SingularValues.three_2</th>\n",
       "      <td>1.001936</td>\n",
       "    </tr>\n",
       "    <tr>\n",
       "      <th>pyspoc.reducers.basic.SingularValues.three_3</th>\n",
       "      <td>0.997857</td>\n",
       "    </tr>\n",
       "    <tr>\n",
       "      <th rowspan=\"3\" valign=\"top\">pyspoc.statistics.basic.KendallTau.standard</th>\n",
       "      <th>pyspoc.reducers.basic.SingularValues.three_1</th>\n",
       "      <td>1.079557</td>\n",
       "    </tr>\n",
       "    <tr>\n",
       "      <th>pyspoc.reducers.basic.SingularValues.three_2</th>\n",
       "      <td>1.028086</td>\n",
       "    </tr>\n",
       "    <tr>\n",
       "      <th>pyspoc.reducers.basic.SingularValues.three_3</th>\n",
       "      <td>0.952982</td>\n",
       "    </tr>\n",
       "  </tbody>\n",
       "</table>\n",
       "</div>"
      ],
      "text/plain": [
       "                                                                                                 0\n",
       "Statistic                                   Reducer                                               \n",
       "pyspoc.statistics.basic.Covariance.cov      pyspoc.reducers.basic.SingularValues.three_1  1.059149\n",
       "                                            pyspoc.reducers.basic.SingularValues.three_2  1.044860\n",
       "                                            pyspoc.reducers.basic.SingularValues.three_3  0.922988\n",
       "                                            pyspoc.reducers.basic.Determinant.scaled      1.231238\n",
       "                                            pyspoc.reducers.basic.Determinant.non-scaled  0.901216\n",
       "pyspoc.statistics.basic.KendallTau.sq       pyspoc.reducers.basic.SingularValues.three_1  1.003370\n",
       "                                            pyspoc.reducers.basic.SingularValues.three_2  1.001936\n",
       "                                            pyspoc.reducers.basic.SingularValues.three_3  0.997857\n",
       "pyspoc.statistics.basic.KendallTau.standard pyspoc.reducers.basic.SingularValues.three_1  1.079557\n",
       "                                            pyspoc.reducers.basic.SingularValues.three_2  1.028086\n",
       "                                            pyspoc.reducers.basic.SingularValues.three_3  0.952982"
      ]
     },
     "execution_count": 11,
     "metadata": {},
     "output_type": "execute_result"
    }
   ],
   "source": [
    "calc.results.T"
   ]
  },
  {
   "cell_type": "code",
   "execution_count": 12,
   "id": "1bddcdc0",
   "metadata": {},
   "outputs": [
    {
     "name": "stdout",
     "output_type": "stream",
     "text": [
      "Overwriting mymodule.py\n"
     ]
    }
   ],
   "source": [
    "%%writefile mymodule.py\n",
    "\n",
    "import numpy as np\n",
    "from pyspoc import ReducedStatistic\n",
    "from typing import Union\n",
    "\n",
    "class MyNewReducedStatistic(ReducedStatistic):\n",
    "\n",
    "    def __init__(self):\n",
    "\n",
    "        # Your initialisation code here.\n",
    "\n",
    "        # Calling base class initialiser.\n",
    "        super().__init__()\n",
    "\n",
    "    @property\n",
    "    def name(self) -> str:\n",
    "        return \"my_new_reducer_name\"\n",
    "\n",
    "    @property\n",
    "    def identifier(self) -> str:\n",
    "        return \"my_new_reducer_identifier\"\n",
    "\n",
    "    @property\n",
    "    def labels(self) -> list[str]:\n",
    "        return [\"my_new_reducer_label_1\",\n",
    "                \"my_new_reducer_label_2\",\n",
    "                \"my_new_reducer_label_n\"]\n",
    "\n",
    "    def compute(self, data: np.ndarray) -> Union[np.ndarray, float]:\n",
    "\n",
    "        # Calculating your reducer as a reduced numpy array or float scalar.\n",
    "        my_reducer = np.max(data)\n",
    "\n",
    "        # Returning the result\n",
    "        return my_reducer"
   ]
  },
  {
   "cell_type": "code",
   "execution_count": 13,
   "id": "78d5138e",
   "metadata": {},
   "outputs": [],
   "source": [
    "from pathlib import Path\n",
    "import os\n",
    "# Add the parent of the current script's parent to sys.path\n",
    "project_root = Path('./').resolve().parents[0]"
   ]
  },
  {
   "cell_type": "code",
   "execution_count": 14,
   "id": "bb09b584",
   "metadata": {},
   "outputs": [
    {
     "name": "stdout",
     "output_type": "stream",
     "text": [
      "/home/hpj22/Documents/stats_for_point_clouds/py-spoc/jupyter_notebooks/mymodule.py\n"
     ]
    }
   ],
   "source": [
    "new_mod_path = os.path.join(project_root,'jupyter_notebooks','mymodule.py')\n",
    "print(new_mod_path)"
   ]
  },
  {
   "cell_type": "code",
   "execution_count": 17,
   "id": "21564f0e",
   "metadata": {},
   "outputs": [],
   "source": [
    "# # Replace with your actual script, exact casing\n",
    "# script = Path(new_mod_path)\n",
    "\n",
    "# # Print it to confirm\n",
    "# print(\"Resolved:\", script)\n",
    "# print(\"Exists:\", script.exists())"
   ]
  },
  {
   "cell_type": "code",
   "execution_count": null,
   "id": "c278f571",
   "metadata": {},
   "outputs": [],
   "source": []
  },
  {
   "cell_type": "code",
   "execution_count": 24,
   "id": "b4cc6397",
   "metadata": {},
   "outputs": [
    {
     "name": "stdout",
     "output_type": "stream",
     "text": [
      "Registering configuration dictionary object.\n",
      "Building internal configuration.\n",
      "  ✔ Module /home/hpj22/Documents/stats_for_point_clouds/py-spoc/jupyter_notebooks/mymodule.py already loaded.\n",
      "  ✖ ReducedStatistic my_new_reducer_identifier could not be found. Skipping.\n"
     ]
    }
   ],
   "source": [
    "my_dataset = my_dataset # this dataset is defined in a previous cell\n",
    "\n",
    "my_config_dict = {'ReducedStatistics':\n",
    " {new_mod_path:\n",
    "  {\"my_new_reducer_identifier\":\n",
    "   {'schemes':\n",
    "    {'scheme_1':{}}}}}}\n",
    "\n",
    "my_config_name = \"new_config\"\n",
    "cfg = Config.from_dict(my_config_name, my_config_dict)"
   ]
  },
  {
   "cell_type": "code",
   "execution_count": 25,
   "id": "b0ade569",
   "metadata": {},
   "outputs": [
    {
     "name": "stdout",
     "output_type": "stream",
     "text": [
      "Registering YAML string.\n",
      "Building internal configuration.\n",
      "  ✔ Module /home/hpj22/Documents/stats_for_point_clouds/py-spoc/jupyter_notebooks/mymodule.py already loaded.\n",
      "  ✖ ReducedStatistic my_new_reducer_name could not be found. Skipping.\n"
     ]
    }
   ],
   "source": [
    "my_config_yaml = f\"\"\"\n",
    "ReducedStatistics:\n",
    "  {new_mod_path}:\n",
    "    my_new_reducer_name:\n",
    "      schemes:\n",
    "        scheme_1:\n",
    "\"\"\"\n",
    "my_config_name = \"new_config\"\n",
    "cfg = Config.from_yaml(my_config_name, my_config_yaml)"
   ]
  },
  {
   "cell_type": "code",
   "execution_count": 26,
   "id": "33a2edff",
   "metadata": {},
   "outputs": [
    {
     "name": "stdout",
     "output_type": "stream",
     "text": [
      "Normalising the dataset...\n",
      "\n",
      "\n",
      "Calculation complete. Time taken: 0.0000s\n"
     ]
    }
   ],
   "source": [
    "calc = Calculator(my_dataset)\n",
    "calc.compute(cfg)\n",
    "results = calc.results"
   ]
  },
  {
   "cell_type": "code",
   "execution_count": 20,
   "id": "ece31882",
   "metadata": {},
   "outputs": [
    {
     "data": {
      "text/html": [
       "<div>\n",
       "<style scoped>\n",
       "    .dataframe tbody tr th:only-of-type {\n",
       "        vertical-align: middle;\n",
       "    }\n",
       "\n",
       "    .dataframe tbody tr th {\n",
       "        vertical-align: top;\n",
       "    }\n",
       "\n",
       "    .dataframe thead tr th {\n",
       "        text-align: left;\n",
       "    }\n",
       "</style>\n",
       "<table border=\"1\" class=\"dataframe\">\n",
       "  <thead>\n",
       "  </thead>\n",
       "  <tbody>\n",
       "    <tr>\n",
       "      <th>0</th>\n",
       "    </tr>\n",
       "  </tbody>\n",
       "</table>\n",
       "</div>"
      ],
      "text/plain": [
       "Empty DataFrame\n",
       "Columns: []\n",
       "Index: [0]"
      ]
     },
     "execution_count": 20,
     "metadata": {},
     "output_type": "execute_result"
    }
   ],
   "source": [
    "results"
   ]
  },
  {
   "cell_type": "code",
   "execution_count": 25,
   "id": "386695a8",
   "metadata": {},
   "outputs": [],
   "source": [
    "# /home/hpj22/Documents/stats_for_point_clouds/py-spoc/jupyter_notebooks/mymodule.py"
   ]
  }
 ],
 "metadata": {
  "kernelspec": {
   "display_name": "Python (pyspoc)",
   "language": "python",
   "name": "pyspoc_env"
  },
  "language_info": {
   "codemirror_mode": {
    "name": "ipython",
    "version": 3
   },
   "file_extension": ".py",
   "mimetype": "text/x-python",
   "name": "python",
   "nbconvert_exporter": "python",
   "pygments_lexer": "ipython3",
   "version": "3.12.11"
  }
 },
 "nbformat": 4,
 "nbformat_minor": 5
}
