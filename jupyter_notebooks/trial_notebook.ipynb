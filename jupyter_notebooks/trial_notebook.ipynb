{
 "cells": [
  {
   "cell_type": "code",
   "execution_count": 1,
   "id": "a55030df",
   "metadata": {},
   "outputs": [
    {
     "ename": "ModuleNotFoundError",
     "evalue": "No module named 'pyspoc'",
     "output_type": "error",
     "traceback": [
      "\u001b[31m---------------------------------------------------------------------------\u001b[39m",
      "\u001b[31mModuleNotFoundError\u001b[39m                       Traceback (most recent call last)",
      "\u001b[36mCell\u001b[39m\u001b[36m \u001b[39m\u001b[32mIn[1]\u001b[39m\u001b[32m, line 1\u001b[39m\n\u001b[32m----> \u001b[39m\u001b[32m1\u001b[39m \u001b[38;5;28;01mimport\u001b[39;00m\u001b[38;5;250m \u001b[39m\u001b[34;01mpyspoc\u001b[39;00m\n",
      "\u001b[31mModuleNotFoundError\u001b[39m: No module named 'pyspoc'"
     ]
    }
   ],
   "source": [
    "import pyspoc"
   ]
  },
  {
   "cell_type": "code",
   "execution_count": 5,
   "id": "a17eec86",
   "metadata": {},
   "outputs": [
    {
     "name": "stdout",
     "output_type": "stream",
     "text": [
      "/home/hpj22/miniconda3/envs/pyspoc_env/bin/python\n",
      "/home/hpj22/Documents/stats_for_point_clouds/py-spoc/pyspoc\n"
     ]
    }
   ],
   "source": [
    "import sys\n",
    "print(sys.executable)\n",
    "print(sys.path[-1])"
   ]
  },
  {
   "cell_type": "code",
   "execution_count": 7,
   "id": "96590f49",
   "metadata": {},
   "outputs": [
    {
     "name": "stdout",
     "output_type": "stream",
     "text": [
      "octave not found, please see README\n",
      "Octave not available: octave not found, please see README\n",
      "Starting JVM with java class /home/hpj22/Documents/stats_for_point_clouds/py-spoc/pyspoc/lib/jidt/infodynamics.jar.\n",
      "<module 'pyspoc' from '/home/hpj22/Documents/stats_for_point_clouds/py-spoc/pyspoc/__init__.py'>\n"
     ]
    }
   ],
   "source": [
    "import importlib.util\n",
    "import sys\n",
    "import pathlib\n",
    "\n",
    "path = pathlib.Path(\"/home/hpj22/Documents/stats_for_point_clouds/py-spoc/pyspoc/__init__.py\")\n",
    "spec = importlib.util.spec_from_file_location(\"pyspoc\", str(path))\n",
    "pyspoc = importlib.util.module_from_spec(spec)\n",
    "sys.modules[\"pyspoc\"] = pyspoc\n",
    "spec.loader.exec_module(pyspoc)\n",
    "print(pyspoc)"
   ]
  },
  {
   "cell_type": "code",
   "execution_count": 8,
   "id": "803f40a0",
   "metadata": {},
   "outputs": [],
   "source": [
    "import pyspoc"
   ]
  }
 ],
 "metadata": {
  "kernelspec": {
   "display_name": "pyspoc_env",
   "language": "python",
   "name": "python3"
  },
  "language_info": {
   "codemirror_mode": {
    "name": "ipython",
    "version": 3
   },
   "file_extension": ".py",
   "mimetype": "text/x-python",
   "name": "python",
   "nbconvert_exporter": "python",
   "pygments_lexer": "ipython3",
   "version": "3.12.11"
  }
 },
 "nbformat": 4,
 "nbformat_minor": 5
}
