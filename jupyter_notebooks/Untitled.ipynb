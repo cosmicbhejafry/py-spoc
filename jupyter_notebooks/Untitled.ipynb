{
 "cells": [
  {
   "cell_type": "code",
   "execution_count": 1,
   "id": "12f8d5db-7404-4a0a-93f8-8d5a732d8efc",
   "metadata": {},
   "outputs": [
    {
     "name": "stdout",
     "output_type": "stream",
     "text": [
      "octave not found, please see README\n",
      "Octave not available: octave not found, please see README\n",
      "Starting JVM with java class /home/hpj22/Documents/stats_for_point_clouds/py-spoc/pyspoc/lib/jidt/infodynamics.jar.\n"
     ]
    }
   ],
   "source": [
    "import pyspoc"
   ]
  },
  {
   "cell_type": "code",
   "execution_count": null,
   "id": "19704c2b",
   "metadata": {},
   "outputs": [],
   "source": []
  }
 ],
 "metadata": {
  "kernelspec": {
   "display_name": "Python (pyspoc)",
   "language": "python",
   "name": "pyspoc_env"
  },
  "language_info": {
   "codemirror_mode": {
    "name": "ipython",
    "version": 3
   },
   "file_extension": ".py",
   "mimetype": "text/x-python",
   "name": "python",
   "nbconvert_exporter": "python",
   "pygments_lexer": "ipython3",
   "version": "3.12.11"
  }
 },
 "nbformat": 4,
 "nbformat_minor": 5
}
