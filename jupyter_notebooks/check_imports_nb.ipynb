{
 "cells": [
  {
   "cell_type": "code",
   "execution_count": 1,
   "id": "a55030df",
   "metadata": {},
   "outputs": [
    {
     "name": "stdout",
     "output_type": "stream",
     "text": [
      "octave not found, please see README\n",
      "Octave not available: octave not found, please see README\n",
      "Starting JVM with java class /home/hpj22/Documents/stats_for_point_clouds/py-spoc/pyspoc/lib/jidt/infodynamics.jar.\n"
     ]
    }
   ],
   "source": [
    "import pyspoc"
   ]
  },
  {
   "cell_type": "code",
   "execution_count": null,
   "id": "b22963e2",
   "metadata": {},
   "outputs": [],
   "source": [
    "# import pyyaml - flag\n",
    "# import jpype1 - flag\n",
    "# import cdt - flag\n",
    "# import oct2py - flag\n",
    "# import precommit - flag"
   ]
  },
  {
   "cell_type": "code",
   "execution_count": null,
   "id": "a17eec86",
   "metadata": {},
   "outputs": [
    {
     "name": "stdout",
     "output_type": "stream",
     "text": [
      "/home/hpj22/miniconda3/envs/pyspoc_env/bin/python\n",
      "['/home/hpj22/miniconda3/envs/pyspoc_env/lib/python312.zip', '/home/hpj22/miniconda3/envs/pyspoc_env/lib/python3.12', '/home/hpj22/miniconda3/envs/pyspoc_env/lib/python3.12/lib-dynload', '', '/home/hpj22/miniconda3/envs/pyspoc_env/lib/python3.12/site-packages', '/home/hpj22/Documents/stats_for_point_clouds/py-spoc/pyspoc']\n"
     ]
    }
   ],
   "source": [
    "## check if pyspoc is in path\n",
    "import sys\n",
    "print(sys.executable)\n",
    "print(sys.path)"
   ]
  },
  {
   "cell_type": "code",
   "execution_count": null,
   "id": "5a1a6d41",
   "metadata": {},
   "outputs": [],
   "source": [
    "# backup to import library\n",
    "\n",
    "# import sys\n",
    "# from pathlib import Path\n",
    "\n",
    "# project_root = Path(__file__).resolve().parent.parent  # adjust based on notebook depth\n",
    "# if str(project_root) not in sys.path:\n",
    "#     sys.path.insert(0, str(project_root))"
   ]
  },
  {
   "cell_type": "code",
   "execution_count": null,
   "id": "96590f49",
   "metadata": {},
   "outputs": [
    {
     "name": "stdout",
     "output_type": "stream",
     "text": [
      "octave not found, please see README\n",
      "Octave not available: octave not found, please see README\n",
      "Starting JVM with java class /home/hpj22/Documents/stats_for_point_clouds/py-spoc/pyspoc/lib/jidt/infodynamics.jar.\n",
      "<module 'pyspoc' from '/home/hpj22/Documents/stats_for_point_clouds/py-spoc/pyspoc/__init__.py'>\n"
     ]
    }
   ],
   "source": [
    "# backup check for import pyspoc\n",
    "\n",
    "# import importlib.util\n",
    "# import sys\n",
    "# import pathlib\n",
    "\n",
    "# path = pathlib.Path(ADD_PATH)\n",
    "# spec = importlib.util.spec_from_file_location(\"pyspoc\", str(path))\n",
    "# pyspoc = importlib.util.module_from_spec(spec)\n",
    "# sys.modules[\"pyspoc\"] = pyspoc\n",
    "# spec.loader.exec_module(pyspoc)\n",
    "# print(pyspoc)"
   ]
  },
  {
   "cell_type": "code",
   "execution_count": null,
   "id": "803f40a0",
   "metadata": {},
   "outputs": [],
   "source": [
    "# import pyspoc"
   ]
  }
 ],
 "metadata": {
  "kernelspec": {
   "display_name": "Python (pyspoc)",
   "language": "python",
   "name": "pyspoc_env"
  },
  "language_info": {
   "codemirror_mode": {
    "name": "ipython",
    "version": 3
   },
   "file_extension": ".py",
   "mimetype": "text/x-python",
   "name": "python",
   "nbconvert_exporter": "python",
   "pygments_lexer": "ipython3",
   "version": "3.12.11"
  }
 },
 "nbformat": 4,
 "nbformat_minor": 5
}
