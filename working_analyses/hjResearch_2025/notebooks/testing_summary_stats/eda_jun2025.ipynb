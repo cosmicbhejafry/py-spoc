{
 "cells": [
  {
   "cell_type": "code",
   "execution_count": null,
   "id": "f14630de",
   "metadata": {},
   "outputs": [],
   "source": [
    "from pyspoc import Calculator, Config"
   ]
  },
  {
   "cell_type": "code",
   "execution_count": null,
   "id": "c1edf945",
   "metadata": {},
   "outputs": [],
   "source": [
    "from pathlib import Path\n",
    "import os\n",
    "# Add the parent of the current script's parent to sys.path\n",
    "project_root = Path('./').resolve().parents[1]"
   ]
  },
  {
   "cell_type": "code",
   "execution_count": null,
   "id": "6411b3f5",
   "metadata": {},
   "outputs": [],
   "source": [
    "new_mod_path = os.path.join(project_root,'summary_stats','mean_median_differences.py')"
   ]
  },
  {
   "cell_type": "code",
   "execution_count": null,
   "id": "3dfa7672",
   "metadata": {},
   "outputs": [],
   "source": [
    "import pandas as pd\n",
    "import numpy as np\n",
    "np.random.seed(42)\n",
    "df = np.random.randint(0,100,size=(100, 4))"
   ]
  },
  {
   "cell_type": "code",
   "execution_count": null,
   "id": "e6916553",
   "metadata": {},
   "outputs": [],
   "source": [
    "my_config_yaml = f\"\"\"\n",
    "ReducedStatistics:\n",
    "  {new_mod_path}:\n",
    "    GlobalMeanMedianDiff:\n",
    "      schemes:\n",
    "        scheme_1:\n",
    "\"\"\"\n",
    "my_config_name = \"new_config\"\n",
    "cfg = Config.from_yaml(my_config_name, my_config_yaml)"
   ]
  },
  {
   "cell_type": "code",
   "execution_count": null,
   "id": "b8976cc7",
   "metadata": {},
   "outputs": [],
   "source": [
    "calc = Calculator(df)\n",
    "calc.compute(cfg)\n",
    "results = calc.results"
   ]
  },
  {
   "cell_type": "code",
   "execution_count": null,
   "id": "d2d1afc8",
   "metadata": {},
   "outputs": [],
   "source": [
    "results.T"
   ]
  },
  {
   "cell_type": "markdown",
   "id": "0e24d36c",
   "metadata": {},
   "source": [
    "## some links/resources:\n",
    "https://time-series-features.gitbook.io/pyspi/installing-and-using-pyspi/usage/walkthrough-tutorials/neuroimaging-fmri-time-series#id-4.-running-pyspi-for-multiple-datasets"
   ]
  }
 ],
 "metadata": {
  "kernelspec": {
   "display_name": "pyspoc_env",
   "language": "python",
   "name": "python3"
  },
  "language_info": {
   "codemirror_mode": {
    "name": "ipython",
    "version": 3
   },
   "file_extension": ".py",
   "mimetype": "text/x-python",
   "name": "python",
   "nbconvert_exporter": "python",
   "pygments_lexer": "ipython3",
   "version": "3.12.11"
  }
 },
 "nbformat": 4,
 "nbformat_minor": 5
}
