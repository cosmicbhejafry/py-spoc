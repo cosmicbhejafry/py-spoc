{
 "cells": [
  {
   "cell_type": "code",
   "execution_count": 1,
   "id": "f14630de",
   "metadata": {},
   "outputs": [
    {
     "name": "stdout",
     "output_type": "stream",
     "text": [
      "octave not found, please see README\n",
      "Octave not available: octave not found, please see README\n",
      "Starting JVM with java class /home/hpj22/Documents/stats_for_point_clouds/py-spoc/pyspoc/lib/jidt/infodynamics.jar.\n"
     ]
    }
   ],
   "source": [
    "from pyspoc import Calculator, Config"
   ]
  },
  {
   "cell_type": "code",
   "execution_count": 2,
   "id": "c1edf945",
   "metadata": {},
   "outputs": [],
   "source": [
    "from pathlib import Path\n",
    "import os\n",
    "# Add the parent of the current script's parent to sys.path\n",
    "project_root = Path('./').resolve().parents[1]"
   ]
  },
  {
   "cell_type": "code",
   "execution_count": 3,
   "id": "6411b3f5",
   "metadata": {},
   "outputs": [],
   "source": [
    "new_mod_path = os.path.join(project_root,'summary_stats','mean_median_differences.py')"
   ]
  },
  {
   "cell_type": "code",
   "execution_count": 4,
   "id": "3dfa7672",
   "metadata": {},
   "outputs": [],
   "source": [
    "import pandas as pd\n",
    "import numpy as np\n",
    "np.random.seed(42)\n",
    "df = np.random.randint(0,100,size=(100, 4))"
   ]
  },
  {
   "cell_type": "code",
   "execution_count": 5,
   "id": "e6916553",
   "metadata": {},
   "outputs": [
    {
     "name": "stdout",
     "output_type": "stream",
     "text": [
      "Registering YAML string.\n",
      "Building internal configuration.\n",
      "/home/hpj22/Documents/stats_for_point_clouds/py-spoc/working_analyses/hjResearch_2025/summary_stats/mean_median_differences.py\n",
      "    ✔ ReducedStatistic GlobalMeanMedianDiff scheme 'scheme_1' added successfully.\n"
     ]
    }
   ],
   "source": [
    "my_config_yaml = f\"\"\"\n",
    "ReducedStatistics:\n",
    "  {new_mod_path}:\n",
    "    GlobalMeanMedianDiff:\n",
    "      schemes:\n",
    "        scheme_1:\n",
    "\"\"\"\n",
    "my_config_name = \"new_config\"\n",
    "cfg = Config.from_yaml(my_config_name, my_config_yaml)"
   ]
  },
  {
   "cell_type": "code",
   "execution_count": 6,
   "id": "b8976cc7",
   "metadata": {},
   "outputs": [
    {
     "name": "stdout",
     "output_type": "stream",
     "text": [
      "Normalising the dataset using StandardScaler \n",
      "\n"
     ]
    },
    {
     "name": "stderr",
     "output_type": "stream",
     "text": [
      "Processing [None: /home/hpj22/Documents/stats_for_point_clouds/py-spoc/working_analyses/hjResearch_2025/summary_stats/mean_median_differences.py.GlobalMeanMedianDiff.scheme_1]: 100%|██████████| 1/1 [00:00<00:00, 750.46it/s]"
     ]
    },
    {
     "name": "stdout",
     "output_type": "stream",
     "text": [
      "\n",
      "Calculation complete. Time taken: 0.0020s\n"
     ]
    },
    {
     "name": "stderr",
     "output_type": "stream",
     "text": [
      "\n"
     ]
    }
   ],
   "source": [
    "calc = Calculator(df)\n",
    "calc.compute(cfg)\n",
    "results = calc.results"
   ]
  },
  {
   "cell_type": "code",
   "execution_count": 7,
   "id": "d2d1afc8",
   "metadata": {},
   "outputs": [
    {
     "data": {
      "text/html": [
       "<div>\n",
       "<style scoped>\n",
       "    .dataframe tbody tr th:only-of-type {\n",
       "        vertical-align: middle;\n",
       "    }\n",
       "\n",
       "    .dataframe tbody tr th {\n",
       "        vertical-align: top;\n",
       "    }\n",
       "\n",
       "    .dataframe thead th {\n",
       "        text-align: right;\n",
       "    }\n",
       "</style>\n",
       "<table border=\"1\" class=\"dataframe\">\n",
       "  <thead>\n",
       "    <tr style=\"text-align: right;\">\n",
       "      <th></th>\n",
       "      <th></th>\n",
       "      <th>0</th>\n",
       "    </tr>\n",
       "    <tr>\n",
       "      <th>Statistic</th>\n",
       "      <th>Reducer</th>\n",
       "      <th></th>\n",
       "    </tr>\n",
       "  </thead>\n",
       "  <tbody>\n",
       "    <tr>\n",
       "      <th>/home/hpj22/Documents/stats_for_point_clouds/py-spoc/working_analyses/hjResearch_2025/summary_stats/mean_median_differences.py.GlobalMeanMedianDiff.scheme_1</th>\n",
       "      <th>self</th>\n",
       "      <td>0.005306</td>\n",
       "    </tr>\n",
       "  </tbody>\n",
       "</table>\n",
       "</div>"
      ],
      "text/plain": [
       "                                                                   0\n",
       "Statistic                                          Reducer          \n",
       "/home/hpj22/Documents/stats_for_point_clouds/py... self     0.005306"
      ]
     },
     "execution_count": 7,
     "metadata": {},
     "output_type": "execute_result"
    }
   ],
   "source": [
    "results.T"
   ]
  },
  {
   "cell_type": "markdown",
   "id": "0e24d36c",
   "metadata": {},
   "source": [
    "## some links/resources:\n",
    "https://time-series-features.gitbook.io/pyspi/installing-and-using-pyspi/usage/walkthrough-tutorials/neuroimaging-fmri-time-series#id-4.-running-pyspi-for-multiple-datasets"
   ]
  }
 ],
 "metadata": {
  "kernelspec": {
   "display_name": "pyspoc_env",
   "language": "python",
   "name": "python3"
  },
  "language_info": {
   "codemirror_mode": {
    "name": "ipython",
    "version": 3
   },
   "file_extension": ".py",
   "mimetype": "text/x-python",
   "name": "python",
   "nbconvert_exporter": "python",
   "pygments_lexer": "ipython3",
   "version": "3.12.11"
  }
 },
 "nbformat": 4,
 "nbformat_minor": 5
}
