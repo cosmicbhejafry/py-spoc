{
 "cells": [
  {
   "cell_type": "code",
   "execution_count": 1,
   "id": "f14630de",
   "metadata": {},
   "outputs": [
    {
     "name": "stdout",
     "output_type": "stream",
     "text": [
      "octave not found, please see README\n",
      "Octave not available: octave not found, please see README\n",
      "Starting JVM with java class /home/hpj22/Documents/stats_for_point_clouds/py-spoc/pyspoc/lib/jidt/infodynamics.jar.\n"
     ]
    }
   ],
   "source": [
    "from pyspoc import Calculator, Config"
   ]
  },
  {
   "cell_type": "code",
   "execution_count": 2,
   "id": "c1edf945",
   "metadata": {},
   "outputs": [],
   "source": [
    "from pathlib import Path\n",
    "import os\n",
    "import numpy as np\n",
    "import pandas as pd\n",
    "# Add the parent of the current script's parent to sys.path\n",
    "project_root = Path('./').resolve().parents[1]"
   ]
  },
  {
   "cell_type": "code",
   "execution_count": 3,
   "id": "6411b3f5",
   "metadata": {},
   "outputs": [],
   "source": [
    "new_mod_path = os.path.join(project_root,'summary_stats','distance_distrib_stats.py')"
   ]
  },
  {
   "cell_type": "code",
   "execution_count": 4,
   "id": "e6916553",
   "metadata": {},
   "outputs": [
    {
     "name": "stdout",
     "output_type": "stream",
     "text": [
      "Registering YAML string.\n",
      "Building internal configuration.\n",
      "/home/hpj22/Documents/stats_for_point_clouds/py-spoc/working_analyses/hjResearch_2025/summary_stats/distance_distrib_stats.py\n",
      "    ✔ ReducedStatistic DistanceDistributionBasicSummarize scheme 'scheme_1' added successfully.\n",
      "    ✔ ReducedStatistic DistanceDistributionModesSummarize scheme 'scheme_1' added successfully.\n"
     ]
    }
   ],
   "source": [
    "my_config_yaml = f\"\"\"\n",
    "ReducedStatistics:\n",
    "  {new_mod_path}:\n",
    "    DistanceDistributionBasicSummarize:\n",
    "      schemes:\n",
    "        scheme_1:\n",
    "          metric: euclidean\n",
    "          stats: \n",
    "            - mean\n",
    "            - median\n",
    "            - iqr\n",
    "          point: global_mean_centroid\n",
    "    DistanceDistributionModesSummarize:\n",
    "      schemes:\n",
    "        scheme_1:\n",
    "          metric: correlation\n",
    "          point: global_mean_centroid\n",
    "\"\"\"\n",
    "my_config_name = \"new_config\"\n",
    "cfg = Config.from_yaml(my_config_name, my_config_yaml)"
   ]
  },
  {
   "cell_type": "code",
   "execution_count": 5,
   "id": "70dbbafc",
   "metadata": {},
   "outputs": [],
   "source": [
    "## right now just do one --> expand code to parse all the objects in the synthetic_data dir\n",
    "\n",
    "filename_dict = {}\n",
    "\n",
    "for dataset_type in ['isotropic_gaussian_cloud', 'randomCov_gaussian_cloud']:\n",
    "\n",
    "    n_sample = 1000\n",
    "    n_feature = 10\n",
    "    base_dir = os.path.join(project_root,'data','synthetic_data',dataset_type,f'N{n_sample}_P{n_feature}')\n",
    "    # subfolder_path = os.path.join(base_dir,'k3_std1.0')\n",
    "    subfolder_path = base_dir\n",
    "\n",
    "    meta_file = os.path.join(subfolder_path, \"meta.csv\")\n",
    "    meta_df = pd.read_csv(meta_file)\n",
    "\n",
    "    ## change this to take sample_num from meta_df:\n",
    "    filename_dict[dataset_type] = {v.split('_')[0] : os.path.join(subfolder_path,v) for v in meta_df['filename']}"
   ]
  },
  {
   "cell_type": "code",
   "execution_count": 6,
   "id": "7d510ccf",
   "metadata": {},
   "outputs": [],
   "source": [
    "flat = {f\"{k}_{sk}\": sv for k, v in filename_dict.items() for sk, sv in v.items()}"
   ]
  },
  {
   "cell_type": "code",
   "execution_count": 7,
   "id": "b8976cc7",
   "metadata": {},
   "outputs": [
    {
     "name": "stdout",
     "output_type": "stream",
     "text": [
      "Normalising the dataset using StandardScaler \n",
      "\n"
     ]
    },
    {
     "name": "stderr",
     "output_type": "stream",
     "text": [
      "Processing [None: /home/hpj22/Documents/stats_for_point_clouds/py-spoc/working_analyses/hjResearch_2025/summary_stats/distance_distrib_stats.py.DistanceDistributionModesSummarize.scheme_1]: 100%|██████████| 2/2 [00:00<00:00, 79.84it/s]\n"
     ]
    },
    {
     "name": "stdout",
     "output_type": "stream",
     "text": [
      "\n",
      "Calculation complete. Time taken: 0.0264s\n",
      "Normalising the dataset using StandardScaler \n",
      "\n"
     ]
    },
    {
     "name": "stderr",
     "output_type": "stream",
     "text": [
      "Processing [None: /home/hpj22/Documents/stats_for_point_clouds/py-spoc/working_analyses/hjResearch_2025/summary_stats/distance_distrib_stats.py.DistanceDistributionModesSummarize.scheme_1]: 100%|██████████| 2/2 [00:00<00:00, 81.64it/s]\n"
     ]
    },
    {
     "name": "stdout",
     "output_type": "stream",
     "text": [
      "\n",
      "Calculation complete. Time taken: 0.0256s\n",
      "Normalising the dataset using StandardScaler \n",
      "\n"
     ]
    },
    {
     "name": "stderr",
     "output_type": "stream",
     "text": [
      "Processing [None: /home/hpj22/Documents/stats_for_point_clouds/py-spoc/working_analyses/hjResearch_2025/summary_stats/distance_distrib_stats.py.DistanceDistributionModesSummarize.scheme_1]: 100%|██████████| 2/2 [00:00<00:00, 70.62it/s]\n"
     ]
    },
    {
     "name": "stdout",
     "output_type": "stream",
     "text": [
      "\n",
      "Calculation complete. Time taken: 0.0295s\n",
      "Normalising the dataset using StandardScaler \n",
      "\n"
     ]
    },
    {
     "name": "stderr",
     "output_type": "stream",
     "text": [
      "Processing [None: /home/hpj22/Documents/stats_for_point_clouds/py-spoc/working_analyses/hjResearch_2025/summary_stats/distance_distrib_stats.py.DistanceDistributionModesSummarize.scheme_1]: 100%|██████████| 2/2 [00:00<00:00, 86.70it/s]\n"
     ]
    },
    {
     "name": "stdout",
     "output_type": "stream",
     "text": [
      "\n",
      "Calculation complete. Time taken: 0.0247s\n",
      "Normalising the dataset using StandardScaler \n",
      "\n"
     ]
    },
    {
     "name": "stderr",
     "output_type": "stream",
     "text": [
      "Processing [None: /home/hpj22/Documents/stats_for_point_clouds/py-spoc/working_analyses/hjResearch_2025/summary_stats/distance_distrib_stats.py.DistanceDistributionModesSummarize.scheme_1]: 100%|██████████| 2/2 [00:00<00:00, 86.72it/s]\n"
     ]
    },
    {
     "name": "stdout",
     "output_type": "stream",
     "text": [
      "\n",
      "Calculation complete. Time taken: 0.0240s\n",
      "Normalising the dataset using StandardScaler \n",
      "\n"
     ]
    },
    {
     "name": "stderr",
     "output_type": "stream",
     "text": [
      "Processing [None: /home/hpj22/Documents/stats_for_point_clouds/py-spoc/working_analyses/hjResearch_2025/summary_stats/distance_distrib_stats.py.DistanceDistributionModesSummarize.scheme_1]: 100%|██████████| 2/2 [00:00<00:00, 53.78it/s]"
     ]
    },
    {
     "name": "stdout",
     "output_type": "stream",
     "text": [
      "\n",
      "Calculation complete. Time taken: 0.0381s\n",
      "Normalising the dataset using StandardScaler \n",
      "\n"
     ]
    },
    {
     "name": "stderr",
     "output_type": "stream",
     "text": [
      "\n",
      "Processing [None: /home/hpj22/Documents/stats_for_point_clouds/py-spoc/working_analyses/hjResearch_2025/summary_stats/distance_distrib_stats.py.DistanceDistributionModesSummarize.scheme_1]: 100%|██████████| 2/2 [00:00<00:00, 67.15it/s]\n"
     ]
    },
    {
     "name": "stdout",
     "output_type": "stream",
     "text": [
      "\n",
      "Calculation complete. Time taken: 0.0304s\n",
      "Normalising the dataset using StandardScaler \n",
      "\n"
     ]
    },
    {
     "name": "stderr",
     "output_type": "stream",
     "text": [
      "Processing [None: /home/hpj22/Documents/stats_for_point_clouds/py-spoc/working_analyses/hjResearch_2025/summary_stats/distance_distrib_stats.py.DistanceDistributionModesSummarize.scheme_1]: 100%|██████████| 2/2 [00:00<00:00, 58.66it/s]\n"
     ]
    },
    {
     "name": "stdout",
     "output_type": "stream",
     "text": [
      "\n",
      "Calculation complete. Time taken: 0.0355s\n",
      "Normalising the dataset using StandardScaler \n",
      "\n"
     ]
    },
    {
     "name": "stderr",
     "output_type": "stream",
     "text": [
      "Processing [None: /home/hpj22/Documents/stats_for_point_clouds/py-spoc/working_analyses/hjResearch_2025/summary_stats/distance_distrib_stats.py.DistanceDistributionModesSummarize.scheme_1]: 100%|██████████| 2/2 [00:00<00:00, 85.03it/s]\n"
     ]
    },
    {
     "name": "stdout",
     "output_type": "stream",
     "text": [
      "\n",
      "Calculation complete. Time taken: 0.0250s\n",
      "Normalising the dataset using StandardScaler \n",
      "\n"
     ]
    },
    {
     "name": "stderr",
     "output_type": "stream",
     "text": [
      "Processing [None: /home/hpj22/Documents/stats_for_point_clouds/py-spoc/working_analyses/hjResearch_2025/summary_stats/distance_distrib_stats.py.DistanceDistributionModesSummarize.scheme_1]: 100%|██████████| 2/2 [00:00<00:00, 72.55it/s]\n"
     ]
    },
    {
     "name": "stdout",
     "output_type": "stream",
     "text": [
      "\n",
      "Calculation complete. Time taken: 0.0290s\n",
      "Normalising the dataset using StandardScaler \n",
      "\n"
     ]
    },
    {
     "name": "stderr",
     "output_type": "stream",
     "text": [
      "Processing [None: /home/hpj22/Documents/stats_for_point_clouds/py-spoc/working_analyses/hjResearch_2025/summary_stats/distance_distrib_stats.py.DistanceDistributionModesSummarize.scheme_1]: 100%|██████████| 2/2 [00:00<00:00, 74.31it/s]\n"
     ]
    },
    {
     "name": "stdout",
     "output_type": "stream",
     "text": [
      "\n",
      "Calculation complete. Time taken: 0.0280s\n",
      "Normalising the dataset using StandardScaler \n",
      "\n"
     ]
    },
    {
     "name": "stderr",
     "output_type": "stream",
     "text": [
      "Processing [None: /home/hpj22/Documents/stats_for_point_clouds/py-spoc/working_analyses/hjResearch_2025/summary_stats/distance_distrib_stats.py.DistanceDistributionModesSummarize.scheme_1]: 100%|██████████| 2/2 [00:00<00:00, 54.94it/s]\n"
     ]
    },
    {
     "name": "stdout",
     "output_type": "stream",
     "text": [
      "\n",
      "Calculation complete. Time taken: 0.0378s\n",
      "Normalising the dataset using StandardScaler \n",
      "\n"
     ]
    },
    {
     "name": "stderr",
     "output_type": "stream",
     "text": [
      "Processing [None: /home/hpj22/Documents/stats_for_point_clouds/py-spoc/working_analyses/hjResearch_2025/summary_stats/distance_distrib_stats.py.DistanceDistributionModesSummarize.scheme_1]: 100%|██████████| 2/2 [00:00<00:00, 52.04it/s]\n"
     ]
    },
    {
     "name": "stdout",
     "output_type": "stream",
     "text": [
      "\n",
      "Calculation complete. Time taken: 0.0433s\n",
      "Normalising the dataset using StandardScaler \n",
      "\n"
     ]
    },
    {
     "name": "stderr",
     "output_type": "stream",
     "text": [
      "Processing [None: /home/hpj22/Documents/stats_for_point_clouds/py-spoc/working_analyses/hjResearch_2025/summary_stats/distance_distrib_stats.py.DistanceDistributionModesSummarize.scheme_1]: 100%|██████████| 2/2 [00:00<00:00, 58.15it/s]\n"
     ]
    },
    {
     "name": "stdout",
     "output_type": "stream",
     "text": [
      "\n",
      "Calculation complete. Time taken: 0.0351s\n",
      "Normalising the dataset using StandardScaler \n",
      "\n"
     ]
    },
    {
     "name": "stderr",
     "output_type": "stream",
     "text": [
      "Processing [None: /home/hpj22/Documents/stats_for_point_clouds/py-spoc/working_analyses/hjResearch_2025/summary_stats/distance_distrib_stats.py.DistanceDistributionModesSummarize.scheme_1]: 100%|██████████| 2/2 [00:00<00:00, 62.02it/s]\n"
     ]
    },
    {
     "name": "stdout",
     "output_type": "stream",
     "text": [
      "\n",
      "Calculation complete. Time taken: 0.0333s\n",
      "Normalising the dataset using StandardScaler \n",
      "\n"
     ]
    },
    {
     "name": "stderr",
     "output_type": "stream",
     "text": [
      "Processing [None: /home/hpj22/Documents/stats_for_point_clouds/py-spoc/working_analyses/hjResearch_2025/summary_stats/distance_distrib_stats.py.DistanceDistributionModesSummarize.scheme_1]: 100%|██████████| 2/2 [00:00<00:00, 63.36it/s]\n"
     ]
    },
    {
     "name": "stdout",
     "output_type": "stream",
     "text": [
      "\n",
      "Calculation complete. Time taken: 0.0329s\n",
      "Normalising the dataset using StandardScaler \n",
      "\n"
     ]
    },
    {
     "name": "stderr",
     "output_type": "stream",
     "text": [
      "Processing [None: /home/hpj22/Documents/stats_for_point_clouds/py-spoc/working_analyses/hjResearch_2025/summary_stats/distance_distrib_stats.py.DistanceDistributionModesSummarize.scheme_1]: 100%|██████████| 2/2 [00:00<00:00, 95.50it/s]\n"
     ]
    },
    {
     "name": "stdout",
     "output_type": "stream",
     "text": [
      "\n",
      "Calculation complete. Time taken: 0.0219s\n",
      "Normalising the dataset using StandardScaler \n",
      "\n"
     ]
    },
    {
     "name": "stderr",
     "output_type": "stream",
     "text": [
      "Processing [None: /home/hpj22/Documents/stats_for_point_clouds/py-spoc/working_analyses/hjResearch_2025/summary_stats/distance_distrib_stats.py.DistanceDistributionModesSummarize.scheme_1]: 100%|██████████| 2/2 [00:00<00:00, 76.62it/s]\n"
     ]
    },
    {
     "name": "stdout",
     "output_type": "stream",
     "text": [
      "\n",
      "Calculation complete. Time taken: 0.0272s\n",
      "Normalising the dataset using StandardScaler \n",
      "\n"
     ]
    },
    {
     "name": "stderr",
     "output_type": "stream",
     "text": [
      "Processing [None: /home/hpj22/Documents/stats_for_point_clouds/py-spoc/working_analyses/hjResearch_2025/summary_stats/distance_distrib_stats.py.DistanceDistributionModesSummarize.scheme_1]: 100%|██████████| 2/2 [00:00<00:00, 59.22it/s]\n"
     ]
    },
    {
     "name": "stdout",
     "output_type": "stream",
     "text": [
      "\n",
      "Calculation complete. Time taken: 0.0348s\n",
      "Normalising the dataset using StandardScaler \n",
      "\n"
     ]
    },
    {
     "name": "stderr",
     "output_type": "stream",
     "text": [
      "Processing [None: /home/hpj22/Documents/stats_for_point_clouds/py-spoc/working_analyses/hjResearch_2025/summary_stats/distance_distrib_stats.py.DistanceDistributionModesSummarize.scheme_1]: 100%|██████████| 2/2 [00:00<00:00, 77.07it/s]"
     ]
    },
    {
     "name": "stdout",
     "output_type": "stream",
     "text": [
      "\n",
      "Calculation complete. Time taken: 0.0268s\n"
     ]
    },
    {
     "name": "stderr",
     "output_type": "stream",
     "text": [
      "\n"
     ]
    }
   ],
   "source": [
    "res_dict = {}\n",
    "\n",
    "for sample_file in flat.keys():\n",
    "\n",
    "    sample_X = np.load(flat[sample_file])\n",
    "\n",
    "    calc = Calculator(sample_X)\n",
    "    calc.compute(cfg)\n",
    "    results = calc.results\n",
    "\n",
    "    res_dict[sample_file] = results"
   ]
  },
  {
   "cell_type": "code",
   "execution_count": 9,
   "id": "d2d1afc8",
   "metadata": {},
   "outputs": [
    {
     "data": {
      "text/html": [
       "<div>\n",
       "<style scoped>\n",
       "    .dataframe tbody tr th:only-of-type {\n",
       "        vertical-align: middle;\n",
       "    }\n",
       "\n",
       "    .dataframe tbody tr th {\n",
       "        vertical-align: top;\n",
       "    }\n",
       "\n",
       "    .dataframe thead tr th {\n",
       "        text-align: left;\n",
       "    }\n",
       "</style>\n",
       "<table border=\"1\" class=\"dataframe\">\n",
       "  <thead>\n",
       "    <tr>\n",
       "      <th></th>\n",
       "      <th>Statistic</th>\n",
       "      <th colspan=\"3\" halign=\"left\">/home/hpj22/Documents/stats_for_point_clouds/py-spoc/working_analyses/hjResearch_2025/summary_stats/distance_distrib_stats.py.DistanceDistributionBasicSummarize.scheme_1</th>\n",
       "      <th>/home/hpj22/Documents/stats_for_point_clouds/py-spoc/working_analyses/hjResearch_2025/summary_stats/distance_distrib_stats.py.DistanceDistributionModesSummarize.scheme_1</th>\n",
       "    </tr>\n",
       "    <tr>\n",
       "      <th></th>\n",
       "      <th>Reducer</th>\n",
       "      <th>self_1</th>\n",
       "      <th>self_2</th>\n",
       "      <th>self_3</th>\n",
       "      <th>self</th>\n",
       "    </tr>\n",
       "  </thead>\n",
       "  <tbody>\n",
       "    <tr>\n",
       "      <th>isotropic_gaussian_cloud_sample0</th>\n",
       "      <th>0</th>\n",
       "      <td>3.081843</td>\n",
       "      <td>3.038733</td>\n",
       "      <td>0.924246</td>\n",
       "      <td>1.0</td>\n",
       "    </tr>\n",
       "    <tr>\n",
       "      <th>isotropic_gaussian_cloud_sample1</th>\n",
       "      <th>0</th>\n",
       "      <td>3.081186</td>\n",
       "      <td>3.053072</td>\n",
       "      <td>0.984227</td>\n",
       "      <td>1.0</td>\n",
       "    </tr>\n",
       "    <tr>\n",
       "      <th>isotropic_gaussian_cloud_sample2</th>\n",
       "      <th>0</th>\n",
       "      <td>3.081690</td>\n",
       "      <td>3.050801</td>\n",
       "      <td>0.934020</td>\n",
       "      <td>1.0</td>\n",
       "    </tr>\n",
       "    <tr>\n",
       "      <th>isotropic_gaussian_cloud_sample3</th>\n",
       "      <th>0</th>\n",
       "      <td>3.084475</td>\n",
       "      <td>3.063469</td>\n",
       "      <td>0.912159</td>\n",
       "      <td>1.0</td>\n",
       "    </tr>\n",
       "    <tr>\n",
       "      <th>isotropic_gaussian_cloud_sample4</th>\n",
       "      <th>0</th>\n",
       "      <td>3.084099</td>\n",
       "      <td>3.041682</td>\n",
       "      <td>0.953863</td>\n",
       "      <td>1.0</td>\n",
       "    </tr>\n",
       "    <tr>\n",
       "      <th>isotropic_gaussian_cloud_sample5</th>\n",
       "      <th>0</th>\n",
       "      <td>3.083064</td>\n",
       "      <td>3.066033</td>\n",
       "      <td>0.980351</td>\n",
       "      <td>1.0</td>\n",
       "    </tr>\n",
       "    <tr>\n",
       "      <th>isotropic_gaussian_cloud_sample6</th>\n",
       "      <th>0</th>\n",
       "      <td>3.082909</td>\n",
       "      <td>3.057137</td>\n",
       "      <td>0.960117</td>\n",
       "      <td>1.0</td>\n",
       "    </tr>\n",
       "    <tr>\n",
       "      <th>isotropic_gaussian_cloud_sample7</th>\n",
       "      <th>0</th>\n",
       "      <td>3.087296</td>\n",
       "      <td>3.066881</td>\n",
       "      <td>0.937356</td>\n",
       "      <td>1.0</td>\n",
       "    </tr>\n",
       "    <tr>\n",
       "      <th>isotropic_gaussian_cloud_sample8</th>\n",
       "      <th>0</th>\n",
       "      <td>3.086389</td>\n",
       "      <td>3.108493</td>\n",
       "      <td>0.980937</td>\n",
       "      <td>1.0</td>\n",
       "    </tr>\n",
       "    <tr>\n",
       "      <th>isotropic_gaussian_cloud_sample9</th>\n",
       "      <th>0</th>\n",
       "      <td>3.090279</td>\n",
       "      <td>3.066272</td>\n",
       "      <td>0.927975</td>\n",
       "      <td>2.0</td>\n",
       "    </tr>\n",
       "    <tr>\n",
       "      <th>randomCov_gaussian_cloud_sample0</th>\n",
       "      <th>0</th>\n",
       "      <td>2.985649</td>\n",
       "      <td>2.794111</td>\n",
       "      <td>1.218604</td>\n",
       "      <td>1.0</td>\n",
       "    </tr>\n",
       "    <tr>\n",
       "      <th>randomCov_gaussian_cloud_sample1</th>\n",
       "      <th>0</th>\n",
       "      <td>2.975903</td>\n",
       "      <td>2.778491</td>\n",
       "      <td>1.310649</td>\n",
       "      <td>1.0</td>\n",
       "    </tr>\n",
       "    <tr>\n",
       "      <th>randomCov_gaussian_cloud_sample2</th>\n",
       "      <th>0</th>\n",
       "      <td>2.997159</td>\n",
       "      <td>2.826376</td>\n",
       "      <td>1.263432</td>\n",
       "      <td>1.0</td>\n",
       "    </tr>\n",
       "    <tr>\n",
       "      <th>randomCov_gaussian_cloud_sample3</th>\n",
       "      <th>0</th>\n",
       "      <td>2.909010</td>\n",
       "      <td>2.664017</td>\n",
       "      <td>1.548089</td>\n",
       "      <td>2.0</td>\n",
       "    </tr>\n",
       "    <tr>\n",
       "      <th>randomCov_gaussian_cloud_sample4</th>\n",
       "      <th>0</th>\n",
       "      <td>2.945594</td>\n",
       "      <td>2.743090</td>\n",
       "      <td>1.342351</td>\n",
       "      <td>2.0</td>\n",
       "    </tr>\n",
       "    <tr>\n",
       "      <th>randomCov_gaussian_cloud_sample5</th>\n",
       "      <th>0</th>\n",
       "      <td>3.018281</td>\n",
       "      <td>2.914766</td>\n",
       "      <td>1.190332</td>\n",
       "      <td>1.0</td>\n",
       "    </tr>\n",
       "    <tr>\n",
       "      <th>randomCov_gaussian_cloud_sample6</th>\n",
       "      <th>0</th>\n",
       "      <td>2.976866</td>\n",
       "      <td>2.821545</td>\n",
       "      <td>1.309936</td>\n",
       "      <td>2.0</td>\n",
       "    </tr>\n",
       "    <tr>\n",
       "      <th>randomCov_gaussian_cloud_sample7</th>\n",
       "      <th>0</th>\n",
       "      <td>2.968876</td>\n",
       "      <td>2.798180</td>\n",
       "      <td>1.360300</td>\n",
       "      <td>1.0</td>\n",
       "    </tr>\n",
       "    <tr>\n",
       "      <th>randomCov_gaussian_cloud_sample8</th>\n",
       "      <th>0</th>\n",
       "      <td>2.944947</td>\n",
       "      <td>2.722416</td>\n",
       "      <td>1.353721</td>\n",
       "      <td>1.0</td>\n",
       "    </tr>\n",
       "    <tr>\n",
       "      <th>randomCov_gaussian_cloud_sample9</th>\n",
       "      <th>0</th>\n",
       "      <td>2.989599</td>\n",
       "      <td>2.831676</td>\n",
       "      <td>1.249562</td>\n",
       "      <td>1.0</td>\n",
       "    </tr>\n",
       "  </tbody>\n",
       "</table>\n",
       "</div>"
      ],
      "text/plain": [
       "Statistic                          /home/hpj22/Documents/stats_for_point_clouds/py-spoc/working_analyses/hjResearch_2025/summary_stats/distance_distrib_stats.py.DistanceDistributionBasicSummarize.scheme_1  \\\n",
       "Reducer                                                                                                                                                                                               self_1   \n",
       "isotropic_gaussian_cloud_sample0 0                                           3.081843                                                                                                                          \n",
       "isotropic_gaussian_cloud_sample1 0                                           3.081186                                                                                                                          \n",
       "isotropic_gaussian_cloud_sample2 0                                           3.081690                                                                                                                          \n",
       "isotropic_gaussian_cloud_sample3 0                                           3.084475                                                                                                                          \n",
       "isotropic_gaussian_cloud_sample4 0                                           3.084099                                                                                                                          \n",
       "isotropic_gaussian_cloud_sample5 0                                           3.083064                                                                                                                          \n",
       "isotropic_gaussian_cloud_sample6 0                                           3.082909                                                                                                                          \n",
       "isotropic_gaussian_cloud_sample7 0                                           3.087296                                                                                                                          \n",
       "isotropic_gaussian_cloud_sample8 0                                           3.086389                                                                                                                          \n",
       "isotropic_gaussian_cloud_sample9 0                                           3.090279                                                                                                                          \n",
       "randomCov_gaussian_cloud_sample0 0                                           2.985649                                                                                                                          \n",
       "randomCov_gaussian_cloud_sample1 0                                           2.975903                                                                                                                          \n",
       "randomCov_gaussian_cloud_sample2 0                                           2.997159                                                                                                                          \n",
       "randomCov_gaussian_cloud_sample3 0                                           2.909010                                                                                                                          \n",
       "randomCov_gaussian_cloud_sample4 0                                           2.945594                                                                                                                          \n",
       "randomCov_gaussian_cloud_sample5 0                                           3.018281                                                                                                                          \n",
       "randomCov_gaussian_cloud_sample6 0                                           2.976866                                                                                                                          \n",
       "randomCov_gaussian_cloud_sample7 0                                           2.968876                                                                                                                          \n",
       "randomCov_gaussian_cloud_sample8 0                                           2.944947                                                                                                                          \n",
       "randomCov_gaussian_cloud_sample9 0                                           2.989599                                                                                                                          \n",
       "\n",
       "Statistic                                               \\\n",
       "Reducer                               self_2    self_3   \n",
       "isotropic_gaussian_cloud_sample0 0  3.038733  0.924246   \n",
       "isotropic_gaussian_cloud_sample1 0  3.053072  0.984227   \n",
       "isotropic_gaussian_cloud_sample2 0  3.050801  0.934020   \n",
       "isotropic_gaussian_cloud_sample3 0  3.063469  0.912159   \n",
       "isotropic_gaussian_cloud_sample4 0  3.041682  0.953863   \n",
       "isotropic_gaussian_cloud_sample5 0  3.066033  0.980351   \n",
       "isotropic_gaussian_cloud_sample6 0  3.057137  0.960117   \n",
       "isotropic_gaussian_cloud_sample7 0  3.066881  0.937356   \n",
       "isotropic_gaussian_cloud_sample8 0  3.108493  0.980937   \n",
       "isotropic_gaussian_cloud_sample9 0  3.066272  0.927975   \n",
       "randomCov_gaussian_cloud_sample0 0  2.794111  1.218604   \n",
       "randomCov_gaussian_cloud_sample1 0  2.778491  1.310649   \n",
       "randomCov_gaussian_cloud_sample2 0  2.826376  1.263432   \n",
       "randomCov_gaussian_cloud_sample3 0  2.664017  1.548089   \n",
       "randomCov_gaussian_cloud_sample4 0  2.743090  1.342351   \n",
       "randomCov_gaussian_cloud_sample5 0  2.914766  1.190332   \n",
       "randomCov_gaussian_cloud_sample6 0  2.821545  1.309936   \n",
       "randomCov_gaussian_cloud_sample7 0  2.798180  1.360300   \n",
       "randomCov_gaussian_cloud_sample8 0  2.722416  1.353721   \n",
       "randomCov_gaussian_cloud_sample9 0  2.831676  1.249562   \n",
       "\n",
       "Statistic                          /home/hpj22/Documents/stats_for_point_clouds/py-spoc/working_analyses/hjResearch_2025/summary_stats/distance_distrib_stats.py.DistanceDistributionModesSummarize.scheme_1  \n",
       "Reducer                                                                                                                                                                                                 self  \n",
       "isotropic_gaussian_cloud_sample0 0                                                1.0                                                                                                                         \n",
       "isotropic_gaussian_cloud_sample1 0                                                1.0                                                                                                                         \n",
       "isotropic_gaussian_cloud_sample2 0                                                1.0                                                                                                                         \n",
       "isotropic_gaussian_cloud_sample3 0                                                1.0                                                                                                                         \n",
       "isotropic_gaussian_cloud_sample4 0                                                1.0                                                                                                                         \n",
       "isotropic_gaussian_cloud_sample5 0                                                1.0                                                                                                                         \n",
       "isotropic_gaussian_cloud_sample6 0                                                1.0                                                                                                                         \n",
       "isotropic_gaussian_cloud_sample7 0                                                1.0                                                                                                                         \n",
       "isotropic_gaussian_cloud_sample8 0                                                1.0                                                                                                                         \n",
       "isotropic_gaussian_cloud_sample9 0                                                2.0                                                                                                                         \n",
       "randomCov_gaussian_cloud_sample0 0                                                1.0                                                                                                                         \n",
       "randomCov_gaussian_cloud_sample1 0                                                1.0                                                                                                                         \n",
       "randomCov_gaussian_cloud_sample2 0                                                1.0                                                                                                                         \n",
       "randomCov_gaussian_cloud_sample3 0                                                2.0                                                                                                                         \n",
       "randomCov_gaussian_cloud_sample4 0                                                2.0                                                                                                                         \n",
       "randomCov_gaussian_cloud_sample5 0                                                1.0                                                                                                                         \n",
       "randomCov_gaussian_cloud_sample6 0                                                2.0                                                                                                                         \n",
       "randomCov_gaussian_cloud_sample7 0                                                1.0                                                                                                                         \n",
       "randomCov_gaussian_cloud_sample8 0                                                1.0                                                                                                                         \n",
       "randomCov_gaussian_cloud_sample9 0                                                1.0                                                                                                                         "
      ]
     },
     "execution_count": 9,
     "metadata": {},
     "output_type": "execute_result"
    }
   ],
   "source": [
    "pd.concat(res_dict)\n"
   ]
  },
  {
   "cell_type": "markdown",
   "id": "0e24d36c",
   "metadata": {},
   "source": [
    "## some links/resources:\n",
    "https://time-series-features.gitbook.io/pyspi/installing-and-using-pyspi/usage/walkthrough-tutorials/neuroimaging-fmri-time-series#id-4.-running-pyspi-for-multiple-datasets"
   ]
  }
 ],
 "metadata": {
  "kernelspec": {
   "display_name": "pyspoc_env",
   "language": "python",
   "name": "python3"
  },
  "language_info": {
   "codemirror_mode": {
    "name": "ipython",
    "version": 3
   },
   "file_extension": ".py",
   "mimetype": "text/x-python",
   "name": "python",
   "nbconvert_exporter": "python",
   "pygments_lexer": "ipython3",
   "version": "3.12.11"
  }
 },
 "nbformat": 4,
 "nbformat_minor": 5
}
