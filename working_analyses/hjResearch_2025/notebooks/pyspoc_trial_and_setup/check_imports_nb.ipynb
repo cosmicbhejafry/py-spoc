{
 "cells": [
  {
   "cell_type": "code",
   "execution_count": 13,
   "id": "a55030df",
   "metadata": {},
   "outputs": [],
   "source": [
    "import pyspoc\n",
    "from pyspoc import Config, Calculator"
   ]
  },
  {
   "cell_type": "code",
   "execution_count": 14,
   "id": "b22963e2",
   "metadata": {},
   "outputs": [],
   "source": [
    "# TODO CHECK THESE IMPORT FLAGS AT SOME POINT\n",
    "# import pyyaml - flag\n",
    "# import jpype1 - flag\n",
    "# import cdt - flag\n",
    "# import oct2py - flag\n",
    "# import precommit - flag"
   ]
  },
  {
   "cell_type": "code",
   "execution_count": 15,
   "id": "a17eec86",
   "metadata": {},
   "outputs": [
    {
     "name": "stdout",
     "output_type": "stream",
     "text": [
      "c:\\anaconda3\\python.exe\n",
      "['c:\\\\Rishi\\\\Maths\\\\Research Project\\\\py-spoc\\\\working_analyses\\\\hjResearch_2025\\\\notebooks\\\\pyspoc_trial_and_setup', 'c:\\\\anaconda3\\\\python312.zip', 'c:\\\\anaconda3\\\\DLLs', 'c:\\\\anaconda3\\\\Lib', 'c:\\\\anaconda3', '', 'c:\\\\anaconda3\\\\Lib\\\\site-packages', '__editable__.pyspoc-2.0.0.finder.__path_hook__', 'c:\\\\anaconda3\\\\Lib\\\\site-packages\\\\win32', 'c:\\\\anaconda3\\\\Lib\\\\site-packages\\\\win32\\\\lib', 'c:\\\\anaconda3\\\\Lib\\\\site-packages\\\\Pythonwin']\n"
     ]
    }
   ],
   "source": [
    "## check if pyspoc is in path\n",
    "import sys\n",
    "print(sys.executable)\n",
    "print(sys.path)"
   ]
  },
  {
   "cell_type": "code",
   "execution_count": 16,
   "id": "5a1a6d41",
   "metadata": {},
   "outputs": [],
   "source": [
    "# backup to import library\n",
    "\n",
    "# import sys\n",
    "# from pathlib import Path\n",
    "\n",
    "# project_root = Path(__file__).resolve().parent.parent  # adjust based on notebook depth\n",
    "# if str(project_root) not in sys.path:\n",
    "#     sys.path.insert(0, str(project_root))"
   ]
  },
  {
   "cell_type": "code",
   "execution_count": 17,
   "id": "96590f49",
   "metadata": {},
   "outputs": [],
   "source": [
    "# backup check for import pyspoc\n",
    "\n",
    "# import importlib.util\n",
    "# import sys\n",
    "# import pathlib\n",
    "\n",
    "# path = pathlib.Path(ADD_PATH)\n",
    "# spec = importlib.util.spec_from_file_location(\"pyspoc\", str(path))\n",
    "# pyspoc = importlib.util.module_from_spec(spec)\n",
    "# sys.modules[\"pyspoc\"] = pyspoc\n",
    "# spec.loader.exec_module(pyspoc)\n",
    "# print(pyspoc)"
   ]
  },
  {
   "cell_type": "code",
   "execution_count": 18,
   "id": "803f40a0",
   "metadata": {},
   "outputs": [],
   "source": [
    "# import pyspoc"
   ]
  },
  {
   "cell_type": "code",
   "execution_count": 19,
   "id": "ed5ce70e",
   "metadata": {},
   "outputs": [],
   "source": [
    "# import other helper libraries\n",
    "import pandas as pd\n",
    "import numpy as np"
   ]
  },
  {
   "cell_type": "code",
   "execution_count": 20,
   "id": "7c4118f0",
   "metadata": {},
   "outputs": [],
   "source": [
    "# generate a random dataframe\n",
    "df = pd.DataFrame(np.random.randint(0,100,size=(100, 4)), columns=list('ABCD'))"
   ]
  },
  {
   "cell_type": "code",
   "execution_count": 21,
   "id": "2d5f7f6a",
   "metadata": {},
   "outputs": [],
   "source": [
    "# create a simple YAML config for pyss\n",
    "\n",
    "# we first configure the 'Statistics' we want to use\n",
    "# in this eg, we use the Covariance and the KendallTau correlation coefficient\n",
    "\n",
    "# we then configure the 'Reducers' we want to use\n",
    "# in this eg, we use the SingularValues and the Determinant\n",
    "\n",
    "# for each Reducer function, we determine which Statistic to apply it to reduce\n",
    "\n",
    "yaml_str_stat_reduce = \"\"\"\n",
    "Statistics:\n",
    "  pyspoc.statistics.basic:\n",
    "    # Covariance\n",
    "    Covariance:\n",
    "      schemes:\n",
    "        cov:\n",
    "          estimator: EmpiricalCovariance\n",
    "\n",
    "    # Kendall Tau correlation coefficient\n",
    "    KendallTau:\n",
    "      schemes:\n",
    "        sq:\n",
    "          squared: True\n",
    "\n",
    "        standard:\n",
    "          squared: False\n",
    "\n",
    "Reducers:\n",
    "  pyspoc.reducers.basic:\n",
    "    SingularValues:\n",
    "      Statistics:\n",
    "        - pyspoc.statistics.basic.Covariance.cov\n",
    "        - pyspoc.statistics.basic.KendallTau.sq\n",
    "        - pyspoc.statistics.basic.KendallTau.standard\n",
    "      schemes:\n",
    "        three:\n",
    "          num_values: 3\n",
    "\n",
    "    Determinant:\n",
    "      Statistics:\n",
    "        - pyspoc.statistics.basic.Covariance.cov\n",
    "      schemes:\n",
    "        scaled:\n",
    "          scaled: True\n",
    "\n",
    "        non-scaled:\n",
    "          scaled: False\n",
    "\"\"\""
   ]
  },
  {
   "cell_type": "code",
   "execution_count": 22,
   "id": "cfd991ec",
   "metadata": {},
   "outputs": [],
   "source": [
    "# copy the randomly generated dataframe\n",
    "my_dataset = df.copy()\n",
    "\n",
    "# set a name for the config\n",
    "my_config_name = \"test_config_yml\""
   ]
  },
  {
   "cell_type": "code",
   "execution_count": 23,
   "id": "32df16ba",
   "metadata": {},
   "outputs": [
    {
     "name": "stdout",
     "output_type": "stream",
     "text": [
      "Registering YAML string.\n",
      "Building internal configuration.\n"
     ]
    },
    {
     "name": "stdout",
     "output_type": "stream",
     "text": [
      "  ✔ Module pyspoc.statistics.basic loaded successfully.\n",
      "    ✔ Statistic Covariance scheme 'cov' added successfully.\n",
      "    ✔ Statistic KendallTau scheme 'sq' added successfully.\n",
      "    ✔ Statistic KendallTau scheme 'standard' added successfully.\n",
      "  ✔ Module pyspoc.reducers.basic loaded successfully.\n",
      "    ✔ Reducer SingularValues scheme 'three' added successfully.\n",
      "    ✔ Reducer Determinant scheme 'scaled' added successfully.\n",
      "    ✔ Reducer Determinant scheme 'non-scaled' added successfully.\n"
     ]
    }
   ],
   "source": [
    "# create a Config class object\n",
    "cfg = Config.from_yaml(my_config_name, yaml_str_stat_reduce)"
   ]
  },
  {
   "cell_type": "code",
   "execution_count": 24,
   "id": "44d62b80",
   "metadata": {},
   "outputs": [
    {
     "name": "stdout",
     "output_type": "stream",
     "text": [
      "Normalising the dataset...\n",
      "\n"
     ]
    }
   ],
   "source": [
    "calc = Calculator(my_dataset)"
   ]
  },
  {
   "cell_type": "code",
   "execution_count": 25,
   "id": "22416dfa",
   "metadata": {},
   "outputs": [
    {
     "name": "stderr",
     "output_type": "stream",
     "text": [
      "Processing [None: pyspoc.statistics.basic.KendallTau.standard]: 100%|██████████| 3/3 [00:00<00:00, 41.83it/s]\n",
      "Processing [None: pyspoc.reducers.basic.Determinant.non-scaled]: 100%|██████████| 3/3 [00:00<00:00, 215.90it/s]"
     ]
    },
    {
     "name": "stdout",
     "output_type": "stream",
     "text": [
      "\n",
      "Calculation complete. Time taken: 0.0893s\n"
     ]
    },
    {
     "name": "stderr",
     "output_type": "stream",
     "text": [
      "\n"
     ]
    }
   ],
   "source": [
    "calc.compute(cfg)"
   ]
  },
  {
   "cell_type": "code",
   "execution_count": 26,
   "id": "0caf4777",
   "metadata": {},
   "outputs": [
    {
     "data": {
      "text/html": [
       "<div>\n",
       "<style scoped>\n",
       "    .dataframe tbody tr th:only-of-type {\n",
       "        vertical-align: middle;\n",
       "    }\n",
       "\n",
       "    .dataframe tbody tr th {\n",
       "        vertical-align: top;\n",
       "    }\n",
       "\n",
       "    .dataframe thead th {\n",
       "        text-align: right;\n",
       "    }\n",
       "</style>\n",
       "<table border=\"1\" class=\"dataframe\">\n",
       "  <thead>\n",
       "    <tr style=\"text-align: right;\">\n",
       "      <th></th>\n",
       "      <th></th>\n",
       "      <th>0</th>\n",
       "    </tr>\n",
       "    <tr>\n",
       "      <th>Statistic</th>\n",
       "      <th>Reducer</th>\n",
       "      <th></th>\n",
       "    </tr>\n",
       "  </thead>\n",
       "  <tbody>\n",
       "    <tr>\n",
       "      <th rowspan=\"5\" valign=\"top\">pyspoc.statistics.basic.Covariance.cov</th>\n",
       "      <th>pyspoc.reducers.basic.SingularValues.three_1</th>\n",
       "      <td>1.108165</td>\n",
       "    </tr>\n",
       "    <tr>\n",
       "      <th>pyspoc.reducers.basic.SingularValues.three_2</th>\n",
       "      <td>1.018255</td>\n",
       "    </tr>\n",
       "    <tr>\n",
       "      <th>pyspoc.reducers.basic.SingularValues.three_3</th>\n",
       "      <td>0.961227</td>\n",
       "    </tr>\n",
       "    <tr>\n",
       "      <th>pyspoc.reducers.basic.Determinant.scaled</th>\n",
       "      <td>1.198163</td>\n",
       "    </tr>\n",
       "    <tr>\n",
       "      <th>pyspoc.reducers.basic.Determinant.non-scaled</th>\n",
       "      <td>0.913570</td>\n",
       "    </tr>\n",
       "    <tr>\n",
       "      <th rowspan=\"3\" valign=\"top\">pyspoc.statistics.basic.KendallTau.sq</th>\n",
       "      <th>pyspoc.reducers.basic.SingularValues.three_1</th>\n",
       "      <td>1.006903</td>\n",
       "    </tr>\n",
       "    <tr>\n",
       "      <th>pyspoc.reducers.basic.SingularValues.three_2</th>\n",
       "      <td>1.000046</td>\n",
       "    </tr>\n",
       "    <tr>\n",
       "      <th>pyspoc.reducers.basic.SingularValues.three_3</th>\n",
       "      <td>0.999440</td>\n",
       "    </tr>\n",
       "    <tr>\n",
       "      <th rowspan=\"3\" valign=\"top\">pyspoc.statistics.basic.KendallTau.standard</th>\n",
       "      <th>pyspoc.reducers.basic.SingularValues.three_1</th>\n",
       "      <td>1.110572</td>\n",
       "    </tr>\n",
       "    <tr>\n",
       "      <th>pyspoc.reducers.basic.SingularValues.three_2</th>\n",
       "      <td>1.008281</td>\n",
       "    </tr>\n",
       "    <tr>\n",
       "      <th>pyspoc.reducers.basic.SingularValues.three_3</th>\n",
       "      <td>0.968149</td>\n",
       "    </tr>\n",
       "  </tbody>\n",
       "</table>\n",
       "</div>"
      ],
      "text/plain": [
       "                                                                                                 0\n",
       "Statistic                                   Reducer                                               \n",
       "pyspoc.statistics.basic.Covariance.cov      pyspoc.reducers.basic.SingularValues.three_1  1.108165\n",
       "                                            pyspoc.reducers.basic.SingularValues.three_2  1.018255\n",
       "                                            pyspoc.reducers.basic.SingularValues.three_3  0.961227\n",
       "                                            pyspoc.reducers.basic.Determinant.scaled      1.198163\n",
       "                                            pyspoc.reducers.basic.Determinant.non-scaled  0.913570\n",
       "pyspoc.statistics.basic.KendallTau.sq       pyspoc.reducers.basic.SingularValues.three_1  1.006903\n",
       "                                            pyspoc.reducers.basic.SingularValues.three_2  1.000046\n",
       "                                            pyspoc.reducers.basic.SingularValues.three_3  0.999440\n",
       "pyspoc.statistics.basic.KendallTau.standard pyspoc.reducers.basic.SingularValues.three_1  1.110572\n",
       "                                            pyspoc.reducers.basic.SingularValues.three_2  1.008281\n",
       "                                            pyspoc.reducers.basic.SingularValues.three_3  0.968149"
      ]
     },
     "execution_count": 26,
     "metadata": {},
     "output_type": "execute_result"
    }
   ],
   "source": [
    "calc.results.T"
   ]
  }
 ],
 "metadata": {
  "kernelspec": {
   "display_name": "base",
   "language": "python",
   "name": "python3"
  },
  "language_info": {
   "codemirror_mode": {
    "name": "ipython",
    "version": 3
   },
   "file_extension": ".py",
   "mimetype": "text/x-python",
   "name": "python",
   "nbconvert_exporter": "python",
   "pygments_lexer": "ipython3",
   "version": "3.12.4"
  }
 },
 "nbformat": 4,
 "nbformat_minor": 5
}
