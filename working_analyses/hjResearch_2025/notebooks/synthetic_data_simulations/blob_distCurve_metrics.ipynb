{
 "cells": [
  {
   "cell_type": "code",
   "execution_count": null,
   "id": "46c5fa5f",
   "metadata": {},
   "outputs": [],
   "source": [
    "import time\n",
    "import warnings\n",
    "\n",
    "import matplotlib.pyplot as plt\n",
    "import numpy as np\n",
    "\n",
    "import seaborn as sns"
   ]
  },
  {
   "cell_type": "code",
   "execution_count": null,
   "id": "a2c701fc",
   "metadata": {},
   "outputs": [],
   "source": [
    "seed = 42"
   ]
  },
  {
   "cell_type": "code",
   "execution_count": null,
   "id": "bedcf334",
   "metadata": {},
   "outputs": [],
   "source": [
    "def isotropic_gaussian(n_samples, n_features,):\n",
    "\n",
    "    mean = np.zeros(n_features)\n",
    "    cov = np.zeros(shape=(n_features,n_features))\n",
    "    np.fill_diagonal(cov, 1)\n",
    "\n",
    "    return np.random.multivariate_normal(mean, cov,size=n_samples)"
   ]
  },
  {
   "cell_type": "code",
   "execution_count": null,
   "id": "13a2edd8",
   "metadata": {},
   "outputs": [],
   "source": []
  },
  {
   "cell_type": "code",
   "execution_count": null,
   "id": "208ec62e",
   "metadata": {},
   "outputs": [],
   "source": [
    "def scatter_helper(ax, xs, ys, zs=None, class_label = None):\n",
    "\n",
    "    if zs is not None:\n",
    "        if class_label is not None:\n",
    "            sc = ax.scatter(xs, ys, zs, c=class_label, cmap='tab10', s=10)\n",
    "        else:\n",
    "            sc = ax.scatter(xs, ys, zs, s=10)\n",
    "        return sc\n",
    "\n",
    "    else:\n",
    "        if class_label is not None:\n",
    "            sc = ax.scatter(xs, ys, c=class_label, cmap='tab10', s=10)\n",
    "        else:\n",
    "            sc = ax.scatter(xs, ys, s=10)\n",
    "        return sc\n",
    "    \n",
    "    return None\n",
    "\n",
    "def plot_3d_scatters(X,title_name,y=None):\n",
    "\n",
    "    fig, axs = plt.subplots(1, 4, figsize=(15, 3), subplot_kw={})\n",
    "\n",
    "    axs[0] = fig.add_subplot(1, 4, 1, projection='3d')\n",
    "    xs,ys,zs = X[:, 0], X[:, 1], X[:, 2]\n",
    "    scatter_helper(axs[0],xs,ys,zs,y)\n",
    "    axs[0].set_title(title_name)\n",
    "\n",
    "    # 2D scatter plots\n",
    "    scatter_helper(axs[1],xs,ys,None,y)\n",
    "    axs[1].set_title('0 vs 1')\n",
    "\n",
    "    scatter_helper(axs[2],ys,zs,None,y)\n",
    "    axs[2].set_title('1 vs 2')\n",
    "\n",
    "    scatter_helper(axs[3],xs,zs,None,y)\n",
    "    axs[3].set_title('0 vs 2')\n",
    "        \n",
    "    # plt.xlim(-2.5, 2.5)\n",
    "    # plt.ylim(-2.5, 2.5)\n",
    "\n",
    "    plt.tight_layout()\n",
    "    plt.show()\n"
   ]
  },
  {
   "cell_type": "code",
   "execution_count": null,
   "id": "038a2fb3",
   "metadata": {},
   "outputs": [],
   "source": [
    "# X.shape[1]"
   ]
  },
  {
   "cell_type": "code",
   "execution_count": null,
   "id": "7979cc74",
   "metadata": {},
   "outputs": [],
   "source": [
    "from scipy.spatial.distance import cdist"
   ]
  },
  {
   "cell_type": "code",
   "execution_count": null,
   "id": "3fc54f6f",
   "metadata": {},
   "outputs": [],
   "source": [
    "lst_metrics = [\n",
    "    'braycurtis', 'canberra', 'chebyshev', \n",
    "    'cityblock', 'correlation', 'cosine', 'dice', \n",
    "    'euclidean', 'hamming', 'jaccard', 'jensenshannon', \n",
    "    'kulczynski1', 'mahalanobis', 'matching', 'minkowski', 'rogerstanimoto', \n",
    "    'russellrao', 'seuclidean', 'sokalmichener', 'sokalsneath', 'sqeuclidean', 'yule'\n",
    "]"
   ]
  },
  {
   "cell_type": "code",
   "execution_count": null,
   "id": "cd6e67d2",
   "metadata": {},
   "outputs": [],
   "source": [
    "## PROBABLY REALLY BAD DESIGN: because point can be both str and float\n",
    "# hacky for now but fix this / find a better way\n",
    "def get_center_from_point(X,point=None):\n",
    "\n",
    "    if point==None:\n",
    "        return np.zeros(shape=(1,X.shape[1]))\n",
    "    \n",
    "    elif point=='global_mean_centroid':\n",
    "        return np.mean(X,axis=0).reshape((1,X.shape[1]))\n",
    "    \n",
    "    elif point=='global_median_centroid':\n",
    "        return np.median(X,axis=0).reshape((1,X.shape[1]))\n",
    "    \n",
    "    else:\n",
    "        return point\n"
   ]
  },
  {
   "cell_type": "code",
   "execution_count": null,
   "id": "31ec6cbd",
   "metadata": {},
   "outputs": [],
   "source": [
    "def dist_from_point(X,point=None,metric='euclidean'):\n",
    "    n_feat = X.shape[1]\n",
    "\n",
    "    center = get_center_from_point(X,point)\n",
    "\n",
    "    if metric.startswith('minkowski'):\n",
    "        metricval = metric.split(' ')[0]\n",
    "        pval = float(metric.split(' ')[1])\n",
    "        return cdist(XA=X,XB=center,metric=metricval,p=pval)\n",
    "    \n",
    "    return cdist(XA=X,XB=center,metric=metric)"
   ]
  },
  {
   "cell_type": "code",
   "execution_count": null,
   "id": "954f872b",
   "metadata": {},
   "outputs": [],
   "source": [
    "from sklearn.metrics import pairwise as sklearn_pairwise"
   ]
  },
  {
   "cell_type": "code",
   "execution_count": null,
   "id": "9026df60",
   "metadata": {},
   "outputs": [],
   "source": [
    "def kernel_from_point(X,point=None,kernel_fn='linear'):\n",
    "\n",
    "    ## FOR POSITIVE-- CONSIDER MASS IN SHELL OR SUMMING UP TO THE RADIUS?\n",
    "\n",
    "    n_feat = X.shape[1]\n",
    "\n",
    "    center = get_center_from_point(X,point)\n",
    "\n",
    "    return sklearn_pairwise.kernel_metrics()[kernel_fn](X=X,Y=center)"
   ]
  },
  {
   "cell_type": "code",
   "execution_count": null,
   "id": "3136f0e3",
   "metadata": {},
   "outputs": [],
   "source": [
    "# np.mean(X,axis=0).shape"
   ]
  },
  {
   "cell_type": "code",
   "execution_count": null,
   "id": "5105a028",
   "metadata": {},
   "outputs": [],
   "source": [
    "n_samples = 1000\n",
    "n_features = 3"
   ]
  },
  {
   "cell_type": "code",
   "execution_count": null,
   "id": "73bad7d0",
   "metadata": {},
   "outputs": [],
   "source": [
    "X = isotropic_gaussian(n_samples, n_features)\n",
    "# plot_3d_scatters(X,'iso_gauss')"
   ]
  },
  {
   "cell_type": "code",
   "execution_count": null,
   "id": "56ec6f6e",
   "metadata": {},
   "outputs": [],
   "source": [
    "# ellips_homosk_clusters = make_heteroskedastic_anisotropic_blobs_nd(n_samples=n_samples,n_features=n_features,cluster_std=[1.0,1.0,1.0])"
   ]
  },
  {
   "cell_type": "code",
   "execution_count": null,
   "id": "b6137332",
   "metadata": {},
   "outputs": [],
   "source": [
    "# plot_3d_scatters(ellips_homosk_clusters[0],'')"
   ]
  },
  {
   "cell_type": "code",
   "execution_count": null,
   "id": "445afbdc",
   "metadata": {},
   "outputs": [],
   "source": [
    "from sklearn import cluster, datasets, mixture\n",
    "\n",
    "gaus_homosk_blobs = datasets.make_blobs(n_samples=n_samples,n_features=n_features, random_state=seed)\n",
    "\n",
    "gaus_heterosk_blobs = datasets.make_blobs(\n",
    "    n_samples=n_samples,n_features=n_features, cluster_std=[1.0, 2.5, 0.5], random_state=seed\n",
    ")"
   ]
  },
  {
   "cell_type": "code",
   "execution_count": null,
   "id": "0f4b2914",
   "metadata": {},
   "outputs": [],
   "source": [
    "# plot_3d_scatters(gaus_homosk_blobs[0],'gauss_blobs')"
   ]
  },
  {
   "cell_type": "code",
   "execution_count": null,
   "id": "55f15031",
   "metadata": {},
   "outputs": [],
   "source": [
    "# plot_3d_scatters(gaus_heterosk_blobs[0],'gauss_blobs')"
   ]
  },
  {
   "cell_type": "markdown",
   "id": "8463b399",
   "metadata": {},
   "source": [
    "## plotting distance distributions"
   ]
  },
  {
   "cell_type": "code",
   "execution_count": null,
   "id": "c45ada9f",
   "metadata": {},
   "outputs": [],
   "source": [
    "from scipy.stats import iqr"
   ]
  },
  {
   "cell_type": "code",
   "execution_count": null,
   "id": "6236d881",
   "metadata": {},
   "outputs": [],
   "source": [
    "# Define scaling functions with safety checks\n",
    "def zscore_scale(dist):\n",
    "    std = np.std(dist)\n",
    "    if std == 0:\n",
    "        raise ValueError(\"Standard deviation is zero — cannot z-score.\")\n",
    "    \n",
    "    plot_dist = (dist - np.mean(dist)) / std\n",
    "    \n",
    "    return plot_dist\n",
    "\n",
    "def iqr_scale(dist):\n",
    "    iqr_val = iqr(dist)\n",
    "    if iqr_val == 0:\n",
    "        raise ValueError(\"IQR is zero — cannot robust scale.\")\n",
    "\n",
    "    plot_dist = (dist - np.median(dist)) / iqr_val\n",
    "\n",
    "    return plot_dist\n",
    "\n",
    "def minmax_scale(dist):\n",
    "    min_val, max_val = np.min(dist), np.max(dist)\n",
    "    if max_val - min_val == 0:\n",
    "        raise ValueError(\"Range is zero — cannot min-max scale.\")\n",
    "    \n",
    "    plot_dist = (dist - min_val) / (max_val - min_val)\n",
    "    \n",
    "    return plot_dist\n"
   ]
  },
  {
   "cell_type": "code",
   "execution_count": null,
   "id": "859bc7c4",
   "metadata": {},
   "outputs": [],
   "source": [
    "def check_metric_plot(metric,plot_dist):\n",
    "    if np.any(np.isnan(plot_dist)):\n",
    "        raise ValueError(f'{metric} produced NaNs — cannot plot.')\n",
    "    return plot_dist"
   ]
  },
  {
   "cell_type": "code",
   "execution_count": null,
   "id": "8923c5b4",
   "metadata": {},
   "outputs": [],
   "source": [
    "def plot_dist_distribution(X,point=None,dist_scale='none',plot_type='violin'):\n",
    "\n",
    "    # lst_metrics = [\n",
    "    #     'braycurtis', 'canberra', 'chebyshev', \n",
    "    #     'cityblock', 'correlation', 'cosine', \n",
    "    #     'euclidean','mahalanobis', \n",
    "    #     'minkowski 0.25',  'seuclidean', 'sqeuclidean'\n",
    "    # ]\n",
    "\n",
    "    lst_metrics = [\n",
    "        'canberra', 'chebyshev', \n",
    "        'cityblock', 'correlation', 'cosine', \n",
    "        'euclidean','mahalanobis', \n",
    "        'minkowski 0.25',  'seuclidean', 'sqeuclidean',\n",
    "        'minkowski 4.0'\n",
    "    ]\n",
    "\n",
    "    nr = 2\n",
    "    nc = 6\n",
    "    fig, axes = plt.subplots(nr, nc, figsize=(5*nc, 5*nr)) \n",
    "    axes = axes.flatten()  # Flatten to 1D array for easy indexing\n",
    "\n",
    "\n",
    "    no_fn = lambda dist : dist\n",
    "    dist_scale_dict = {'zscore' : zscore_scale, 'iqr' : iqr_scale, 'minmax' : minmax_scale, 'none' : no_fn}\n",
    "\n",
    "    metric_plot_dict = {}\n",
    "    max_count = 0\n",
    "\n",
    "    for metric in lst_metrics:\n",
    "\n",
    "        dist_from_center = dist_from_point(X,point=point,metric=metric)        \n",
    "\n",
    "        if dist_scale in dist_scale_dict.keys():\n",
    "            try:\n",
    "                plot_dist = dist_scale_dict[dist_scale](dist_from_center)\n",
    "                plot_dist = check_metric_plot(metric,plot_dist)\n",
    "\n",
    "            except Exception as e:\n",
    "                plot_dist = None\n",
    "                print(f\"{metric} skipped: {e}\")\n",
    "\n",
    "        if plot_dist is not None:\n",
    "            metric_plot_dict[metric] = plot_dist\n",
    "            counts, _ = np.histogram(plot_dist)\n",
    "            max_count = max(max_count, counts.max())            \n",
    "            # max_count = max(max_count, plot_dist.max())\n",
    "\n",
    "    for i,metric in enumerate(metric_plot_dict.keys()):        \n",
    "        ax = axes[i]\n",
    "        dist_vals = metric_plot_dict[metric]\n",
    "        dist_vals = dist_vals[~np.isnan(dist_vals)]\n",
    "\n",
    "        if plot_type=='violin':\n",
    "            sns.violinplot(y=dist_vals, ax=ax, inner='quartile', cut=0)\n",
    "\n",
    "        if plot_type=='hist':\n",
    "            ax.hist(dist_vals)\n",
    "            ax.set_ylim(0, max_count * 1.05)\n",
    "\n",
    "        ax.set_title(metric) \n",
    "\n",
    "    # Hide any unused subplots\n",
    "    for j in range(i+1, len(axes)):\n",
    "        fig.delaxes(axes[j])\n",
    "\n",
    "    plt.tight_layout()\n",
    "    plt.show()    \n",
    "    # return metric_plot_dict"
   ]
  },
  {
   "cell_type": "code",
   "execution_count": null,
   "id": "5a6b875e",
   "metadata": {},
   "outputs": [],
   "source": [
    "S_points, S_color = datasets.make_s_curve(n_samples, random_state=seed)\n",
    "\n",
    "plot_3d_scatters(S_points,'')\n",
    "plot_dist_distribution(S_points,point='global_median_centroid',dist_scale='iqr')"
   ]
  },
  {
   "cell_type": "code",
   "execution_count": null,
   "id": "92889cfd",
   "metadata": {},
   "outputs": [],
   "source": [
    "# swissrolldata = datasets.make_swiss_roll(\n",
    "#     n_samples=n_samples,random_state=seed,noise=0.2\n",
    "# )\n",
    "\n",
    "# plot_3d_scatters(swissrolldata[0],'')\n",
    "# plot_dist_distribution(swissrolldata[0],point='global_median_centroid',dist_scale='iqr')"
   ]
  },
  {
   "cell_type": "code",
   "execution_count": null,
   "id": "47ce1213",
   "metadata": {},
   "outputs": [],
   "source": [
    "for n_features in [3,10,100,500]:\n",
    "    X = isotropic_gaussian(n_samples, n_features)\n",
    "    plot_3d_scatters(X,'iso_gauss')\n",
    "    plot_dist_distribution(X,point='global_median_centroid',dist_scale='iqr')"
   ]
  },
  {
   "cell_type": "code",
   "execution_count": null,
   "id": "0338a125",
   "metadata": {},
   "outputs": [],
   "source": [
    "for n_features in [3,10,100,500]:\n",
    "    # X = isotropic_gaussian(n_samples, n_features)\n",
    "\n",
    "    gaus_homosk_blobs = datasets.make_blobs(n_samples=n_samples,n_features=n_features, random_state=seed)\n",
    "    X = gaus_homosk_blobs[0]\n",
    "    print(X.shape)\n",
    "    \n",
    "    plot_3d_scatters(X,'gaus_homosk_blobs')\n",
    "    plot_dist_distribution(X,point='global_median_centroid',dist_scale='iqr')"
   ]
  },
  {
   "cell_type": "code",
   "execution_count": null,
   "id": "8ec2a159",
   "metadata": {},
   "outputs": [],
   "source": [
    "# plot_dict = plot_dist_distribution(gaus_homosk_blobs[0],point='global_median_centroid',dist_scale='iqr')\n",
    "# plot_violin_dist_facets(plot_dict)"
   ]
  },
  {
   "cell_type": "code",
   "execution_count": null,
   "id": "9421dfa7",
   "metadata": {},
   "outputs": [],
   "source": []
  },
  {
   "cell_type": "code",
   "execution_count": null,
   "id": "330bdcdd",
   "metadata": {},
   "outputs": [],
   "source": [
    "# plot_dist_distribution(gaus_heterosk_blobs[0],point='global_median_centroid',dist_scale='iqr')"
   ]
  },
  {
   "cell_type": "code",
   "execution_count": null,
   "id": "7adfe9ab",
   "metadata": {},
   "outputs": [],
   "source": [
    "def plot_kernel_distribution(X,point=None):\n",
    "\n",
    "    kernel_fns_lst = list(sklearn_pairwise.kernel_metrics().keys())\n",
    "    exclude_kernel_lst = ['additive_chi2','chi2']\n",
    "    \n",
    "    kernel_fns_lst = [v for v in kernel_fns_lst if v not in exclude_kernel_lst]\n",
    "\n",
    "    nr = 2\n",
    "    nc = 4\n",
    "    fig, axes = plt.subplots(2, 4, figsize=(5*nc, 5*nr)) \n",
    "    axes = axes.flatten()  # Flatten to 1D array for easy indexing\n",
    "\n",
    "    for i,kernel_fn_str in enumerate(kernel_fns_lst):\n",
    "\n",
    "        kernel_from_pt = kernel_from_point(X,point=point,kernel_fn=kernel_fn_str)\n",
    "\n",
    "        try:\n",
    "            ax = axes[i]\n",
    "            ax.hist(kernel_from_pt)\n",
    "\n",
    "        except:\n",
    "            print(f'{kernel_fn_str} failed')\n",
    "\n",
    "        ax.set_title(kernel_fn_str)        \n",
    "    \n",
    "    plt.show()\n"
   ]
  },
  {
   "cell_type": "code",
   "execution_count": null,
   "id": "361e1cb0",
   "metadata": {},
   "outputs": [],
   "source": [
    "# plot_kernel_distribution(X,point='global_mean_centroid')"
   ]
  },
  {
   "cell_type": "code",
   "execution_count": null,
   "id": "318f7a06",
   "metadata": {},
   "outputs": [],
   "source": []
  },
  {
   "cell_type": "code",
   "execution_count": null,
   "id": "d6453857",
   "metadata": {},
   "outputs": [],
   "source": [
    "# plot_kernel_distribution(gaus_homosk_blobs[0],point='global_mean_centroid')"
   ]
  },
  {
   "cell_type": "code",
   "execution_count": null,
   "id": "e9915e89",
   "metadata": {},
   "outputs": [],
   "source": [
    "# plot_kernel_distribution(gaus_heterosk_blobs[0],point='global_mean_centroid')"
   ]
  },
  {
   "cell_type": "code",
   "execution_count": null,
   "id": "152760b7",
   "metadata": {},
   "outputs": [],
   "source": [
    "# plot_dist_distribution(gaus_heterosk_blobs[0],point='global_mean_centroid')"
   ]
  },
  {
   "cell_type": "markdown",
   "id": "c021a0be",
   "metadata": {},
   "source": [
    "## plotting functions of distance"
   ]
  },
  {
   "cell_type": "code",
   "execution_count": null,
   "id": "768a31ed",
   "metadata": {},
   "outputs": [],
   "source": [
    "def plot_kernel_fn_vs_dist(X,point=None,metric='euclidean'):\n",
    "\n",
    "    fig, axes = plt.subplots(2, 4, figsize=(15, 12))  # 3x3 grid\n",
    "    axes = axes.flatten()  # Flatten to 1D array for easy indexing\n",
    "\n",
    "    kernel_fns_lst = list(sklearn_pairwise.kernel_metrics().keys())\n",
    "    exclude_kernel_lst = ['additive_chi2','chi2']\n",
    "    \n",
    "    kernel_fns_lst = [v for v in kernel_fns_lst if v not in exclude_kernel_lst]\n",
    "\n",
    "    for i,kernel_fn_str in enumerate(kernel_fns_lst):\n",
    "        # print(kernel_fn_str)\n",
    "        dist_from_center = dist_from_point(X,point=point,metric=metric)\n",
    "        dist_from_center_norm_rad = dist_from_center\n",
    "        # /np.max(dist_from_center)\n",
    "\n",
    "        kernel_from_pt = kernel_from_point(X,point=point,kernel_fn=kernel_fn_str)\n",
    "\n",
    "        ax = axes[i]\n",
    "        ax.scatter(x=dist_from_center_norm_rad, y=kernel_from_pt)\n",
    "        ax.set_title(kernel_fn_str)\n",
    "        ax.set_xlabel(metric)\n",
    "        # ax.set_ylabel(\"Kernel Value\")\n",
    "    \n",
    "    plt.show()"
   ]
  },
  {
   "cell_type": "code",
   "execution_count": null,
   "id": "f837fc64",
   "metadata": {},
   "outputs": [],
   "source": [
    "def plot_fn_vs_dist(X,point=None,metric='euclidean'):\n",
    "\n",
    "    fig, axes = plt.subplots(1, 2, figsize=(10, 5)) \n",
    "    axes = axes.flatten()  # Flatten to 1D array for easy indexing\n",
    "\n",
    "    fns_lst = {}\n",
    "    const_decay = 1\n",
    "    fns_lst['exp_decay_dist'] = lambda distvect : np.exp(-distvect*const_decay)\n",
    "    fns_lst['inv_scaled_dist'] = lambda distvect : 1 / (distvect / np.max(distvect))\n",
    "\n",
    "    for i,fn_str in enumerate(fns_lst.keys()):\n",
    "\n",
    "        dist_from_center = dist_from_point(X,point=point,metric=metric)\n",
    "        scaled_dist_from_center = dist_from_center / np.max(dist_from_center)\n",
    "        \n",
    "        fn_dist_from_center = fns_lst[fn_str](scaled_dist_from_center)\n",
    "\n",
    "        ax = axes[i]\n",
    "        ax.scatter(x=scaled_dist_from_center, y=fn_dist_from_center)\n",
    "        ax.set_title(fn_str)\n",
    "        ax.set_xlabel(metric)\n",
    "        # ax.set_ylabel(\"Kernel Value\")\n",
    "    \n",
    "    plt.show()"
   ]
  },
  {
   "cell_type": "code",
   "execution_count": null,
   "id": "d1d1c665",
   "metadata": {},
   "outputs": [],
   "source": []
  },
  {
   "cell_type": "code",
   "execution_count": null,
   "id": "b169825d",
   "metadata": {},
   "outputs": [],
   "source": [
    "# for metric_val in lst_metrics:\n",
    "    # plot_kernel_fn_vs_dist(X,metric=metric_val)\n",
    "    # plot_dist_distrib(X,metric=metric_val)\n",
    "    # plot_fn_vs_dist(gaus_heterosk_blobs[0],metric=metric_val)\n",
    "    "
   ]
  },
  {
   "cell_type": "code",
   "execution_count": null,
   "id": "6a1d09d6",
   "metadata": {},
   "outputs": [],
   "source": [
    "# plot_fn_vs_dist(gaus_homosk_blobs[0],metric='euclidean')"
   ]
  },
  {
   "cell_type": "code",
   "execution_count": null,
   "id": "3323e367",
   "metadata": {},
   "outputs": [],
   "source": [
    "# plot_fn_vs_dist(gaus_heterosk_blobs[0],metric='euclidean')"
   ]
  },
  {
   "cell_type": "code",
   "execution_count": null,
   "id": "56dfafe5",
   "metadata": {},
   "outputs": [],
   "source": [
    "# plot_kernel_fn_vs_dist(gaus_heterosk_blobs[0],metric='euclidean')"
   ]
  },
  {
   "cell_type": "code",
   "execution_count": null,
   "id": "08bfd7bd",
   "metadata": {},
   "outputs": [],
   "source": [
    "# plot_kernel_fn_vs_dist(gaus_homosk_blobs[0],metric='euclidean')"
   ]
  },
  {
   "cell_type": "code",
   "execution_count": null,
   "id": "eadab369",
   "metadata": {},
   "outputs": [],
   "source": [
    "# plot_kernel_fn_vs_dist(X,metric='euclidean')"
   ]
  }
 ],
 "metadata": {
  "kernelspec": {
   "display_name": "Python (pyspoc)",
   "language": "python",
   "name": "pyspoc_env"
  },
  "language_info": {
   "codemirror_mode": {
    "name": "ipython",
    "version": 3
   },
   "file_extension": ".py",
   "mimetype": "text/x-python",
   "name": "python",
   "nbconvert_exporter": "python",
   "pygments_lexer": "ipython3",
   "version": "3.12.11"
  }
 },
 "nbformat": 4,
 "nbformat_minor": 5
}
